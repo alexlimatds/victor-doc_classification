{
  "nbformat": 4,
  "nbformat_minor": 0,
  "metadata": {
    "colab": {
      "name": "victor-doc_classification-CNN-error_analysis.ipynb",
      "provenance": [],
      "collapsed_sections": [],
      "toc_visible": true,
      "authorship_tag": "ABX9TyPo0c0XcPFvsE72tK4x/4XI",
      "include_colab_link": true
    },
    "kernelspec": {
      "name": "python3",
      "display_name": "Python 3"
    },
    "accelerator": "GPU",
    "widgets": {
      "application/vnd.jupyter.widget-state+json": {
        "67ad8eb1af784c52ba4fba8338ed06d0": {
          "model_module": "@jupyter-widgets/controls",
          "model_name": "HBoxModel",
          "state": {
            "_view_name": "HBoxView",
            "_dom_classes": [],
            "_model_name": "HBoxModel",
            "_view_module": "@jupyter-widgets/controls",
            "_model_module_version": "1.5.0",
            "_view_count": null,
            "_view_module_version": "1.5.0",
            "box_style": "",
            "layout": "IPY_MODEL_ee5275fe0c4244a8bc1ca311a9d5a5cf",
            "_model_module": "@jupyter-widgets/controls",
            "children": [
              "IPY_MODEL_87ff95637ae143c9a2c94f6904e44d26",
              "IPY_MODEL_75577452d37f4eb287a1940fe5bb7fa7"
            ]
          }
        },
        "ee5275fe0c4244a8bc1ca311a9d5a5cf": {
          "model_module": "@jupyter-widgets/base",
          "model_name": "LayoutModel",
          "state": {
            "_view_name": "LayoutView",
            "grid_template_rows": null,
            "right": null,
            "justify_content": null,
            "_view_module": "@jupyter-widgets/base",
            "overflow": null,
            "_model_module_version": "1.2.0",
            "_view_count": null,
            "flex_flow": null,
            "width": null,
            "min_width": null,
            "border": null,
            "align_items": null,
            "bottom": null,
            "_model_module": "@jupyter-widgets/base",
            "top": null,
            "grid_column": null,
            "overflow_y": null,
            "overflow_x": null,
            "grid_auto_flow": null,
            "grid_area": null,
            "grid_template_columns": null,
            "flex": null,
            "_model_name": "LayoutModel",
            "justify_items": null,
            "grid_row": null,
            "max_height": null,
            "align_content": null,
            "visibility": null,
            "align_self": null,
            "height": null,
            "min_height": null,
            "padding": null,
            "grid_auto_rows": null,
            "grid_gap": null,
            "max_width": null,
            "order": null,
            "_view_module_version": "1.2.0",
            "grid_template_areas": null,
            "object_position": null,
            "object_fit": null,
            "grid_auto_columns": null,
            "margin": null,
            "display": null,
            "left": null
          }
        },
        "87ff95637ae143c9a2c94f6904e44d26": {
          "model_module": "@jupyter-widgets/controls",
          "model_name": "FloatProgressModel",
          "state": {
            "_view_name": "ProgressView",
            "style": "IPY_MODEL_aef11384a837441287e93dc6332db08f",
            "_dom_classes": [],
            "description": "Predicting (validation set): 100%",
            "_model_name": "FloatProgressModel",
            "bar_style": "",
            "max": 298,
            "_view_module": "@jupyter-widgets/controls",
            "_model_module_version": "1.5.0",
            "value": 298,
            "_view_count": null,
            "_view_module_version": "1.5.0",
            "orientation": "horizontal",
            "min": 0,
            "description_tooltip": null,
            "_model_module": "@jupyter-widgets/controls",
            "layout": "IPY_MODEL_aef63d00e7db4f09bbb99d6acf96c17e"
          }
        },
        "75577452d37f4eb287a1940fe5bb7fa7": {
          "model_module": "@jupyter-widgets/controls",
          "model_name": "HTMLModel",
          "state": {
            "_view_name": "HTMLView",
            "style": "IPY_MODEL_366dbb83b24342c68014ad7079a1e412",
            "_dom_classes": [],
            "description": "",
            "_model_name": "HTMLModel",
            "placeholder": "​",
            "_view_module": "@jupyter-widgets/controls",
            "_model_module_version": "1.5.0",
            "value": " 298/298 [00:04&lt;00:00, 62.54batch/s]",
            "_view_count": null,
            "_view_module_version": "1.5.0",
            "description_tooltip": null,
            "_model_module": "@jupyter-widgets/controls",
            "layout": "IPY_MODEL_85751acf11854c49a48c8f143cd08015"
          }
        },
        "aef11384a837441287e93dc6332db08f": {
          "model_module": "@jupyter-widgets/controls",
          "model_name": "ProgressStyleModel",
          "state": {
            "_view_name": "StyleView",
            "_model_name": "ProgressStyleModel",
            "description_width": "initial",
            "_view_module": "@jupyter-widgets/base",
            "_model_module_version": "1.5.0",
            "_view_count": null,
            "_view_module_version": "1.2.0",
            "bar_color": null,
            "_model_module": "@jupyter-widgets/controls"
          }
        },
        "aef63d00e7db4f09bbb99d6acf96c17e": {
          "model_module": "@jupyter-widgets/base",
          "model_name": "LayoutModel",
          "state": {
            "_view_name": "LayoutView",
            "grid_template_rows": null,
            "right": null,
            "justify_content": null,
            "_view_module": "@jupyter-widgets/base",
            "overflow": null,
            "_model_module_version": "1.2.0",
            "_view_count": null,
            "flex_flow": null,
            "width": null,
            "min_width": null,
            "border": null,
            "align_items": null,
            "bottom": null,
            "_model_module": "@jupyter-widgets/base",
            "top": null,
            "grid_column": null,
            "overflow_y": null,
            "overflow_x": null,
            "grid_auto_flow": null,
            "grid_area": null,
            "grid_template_columns": null,
            "flex": null,
            "_model_name": "LayoutModel",
            "justify_items": null,
            "grid_row": null,
            "max_height": null,
            "align_content": null,
            "visibility": null,
            "align_self": null,
            "height": null,
            "min_height": null,
            "padding": null,
            "grid_auto_rows": null,
            "grid_gap": null,
            "max_width": null,
            "order": null,
            "_view_module_version": "1.2.0",
            "grid_template_areas": null,
            "object_position": null,
            "object_fit": null,
            "grid_auto_columns": null,
            "margin": null,
            "display": null,
            "left": null
          }
        },
        "366dbb83b24342c68014ad7079a1e412": {
          "model_module": "@jupyter-widgets/controls",
          "model_name": "DescriptionStyleModel",
          "state": {
            "_view_name": "StyleView",
            "_model_name": "DescriptionStyleModel",
            "description_width": "",
            "_view_module": "@jupyter-widgets/base",
            "_model_module_version": "1.5.0",
            "_view_count": null,
            "_view_module_version": "1.2.0",
            "_model_module": "@jupyter-widgets/controls"
          }
        },
        "85751acf11854c49a48c8f143cd08015": {
          "model_module": "@jupyter-widgets/base",
          "model_name": "LayoutModel",
          "state": {
            "_view_name": "LayoutView",
            "grid_template_rows": null,
            "right": null,
            "justify_content": null,
            "_view_module": "@jupyter-widgets/base",
            "overflow": null,
            "_model_module_version": "1.2.0",
            "_view_count": null,
            "flex_flow": null,
            "width": null,
            "min_width": null,
            "border": null,
            "align_items": null,
            "bottom": null,
            "_model_module": "@jupyter-widgets/base",
            "top": null,
            "grid_column": null,
            "overflow_y": null,
            "overflow_x": null,
            "grid_auto_flow": null,
            "grid_area": null,
            "grid_template_columns": null,
            "flex": null,
            "_model_name": "LayoutModel",
            "justify_items": null,
            "grid_row": null,
            "max_height": null,
            "align_content": null,
            "visibility": null,
            "align_self": null,
            "height": null,
            "min_height": null,
            "padding": null,
            "grid_auto_rows": null,
            "grid_gap": null,
            "max_width": null,
            "order": null,
            "_view_module_version": "1.2.0",
            "grid_template_areas": null,
            "object_position": null,
            "object_fit": null,
            "grid_auto_columns": null,
            "margin": null,
            "display": null,
            "left": null
          }
        }
      }
    }
  },
  "cells": [
    {
      "cell_type": "markdown",
      "metadata": {
        "id": "view-in-github",
        "colab_type": "text"
      },
      "source": [
        "<a href=\"https://colab.research.google.com/github/alexlimatds/victor-doc_classification/blob/main/victor_doc_classification_CNN_error_analysis.ipynb\" target=\"_parent\"><img src=\"https://colab.research.google.com/assets/colab-badge.svg\" alt=\"Open In Colab\"/></a>"
      ]
    },
    {
      "cell_type": "markdown",
      "metadata": {
        "id": "a2FArtJT4g0B"
      },
      "source": [
        "## Error analysis of Document classification from Victor project using a CNN as machine learning model\n",
        "\n",
        "The notebook analyzes errors commited by a CNN described in the _VICTOR: a Dataset for Brazilian Legal Documents Classification_ paper.\n",
        "\n",
        "The CNN was trained in another notebook.\n",
        "\n",
        "Deep learning library: PyTorch"
      ]
    },
    {
      "cell_type": "markdown",
      "metadata": {
        "id": "7WAv1GXv7yTm"
      },
      "source": [
        "### Instaling dependencies"
      ]
    },
    {
      "cell_type": "code",
      "metadata": {
        "colab": {
          "base_uri": "https://localhost:8080/"
        },
        "id": "XW3NDy8i7y6m",
        "outputId": "2efa3ee6-9cd1-4ef4-8de9-1d4623425cd8"
      },
      "source": [
        "!pip install tqdm\n",
        "!python -m spacy download pt"
      ],
      "execution_count": null,
      "outputs": [
        {
          "output_type": "stream",
          "text": [
            "Requirement already satisfied: tqdm in /usr/local/lib/python3.6/dist-packages (4.41.1)\n",
            "Collecting pt_core_news_sm==2.2.5\n",
            "\u001b[?25l  Downloading https://github.com/explosion/spacy-models/releases/download/pt_core_news_sm-2.2.5/pt_core_news_sm-2.2.5.tar.gz (21.2MB)\n",
            "\u001b[K     |████████████████████████████████| 21.2MB 13.7MB/s \n",
            "\u001b[?25hRequirement already satisfied: spacy>=2.2.2 in /usr/local/lib/python3.6/dist-packages (from pt_core_news_sm==2.2.5) (2.2.4)\n",
            "Requirement already satisfied: srsly<1.1.0,>=1.0.2 in /usr/local/lib/python3.6/dist-packages (from spacy>=2.2.2->pt_core_news_sm==2.2.5) (1.0.5)\n",
            "Requirement already satisfied: cymem<2.1.0,>=2.0.2 in /usr/local/lib/python3.6/dist-packages (from spacy>=2.2.2->pt_core_news_sm==2.2.5) (2.0.5)\n",
            "Requirement already satisfied: murmurhash<1.1.0,>=0.28.0 in /usr/local/lib/python3.6/dist-packages (from spacy>=2.2.2->pt_core_news_sm==2.2.5) (1.0.5)\n",
            "Requirement already satisfied: numpy>=1.15.0 in /usr/local/lib/python3.6/dist-packages (from spacy>=2.2.2->pt_core_news_sm==2.2.5) (1.19.5)\n",
            "Requirement already satisfied: wasabi<1.1.0,>=0.4.0 in /usr/local/lib/python3.6/dist-packages (from spacy>=2.2.2->pt_core_news_sm==2.2.5) (0.8.1)\n",
            "Requirement already satisfied: catalogue<1.1.0,>=0.0.7 in /usr/local/lib/python3.6/dist-packages (from spacy>=2.2.2->pt_core_news_sm==2.2.5) (1.0.0)\n",
            "Requirement already satisfied: setuptools in /usr/local/lib/python3.6/dist-packages (from spacy>=2.2.2->pt_core_news_sm==2.2.5) (53.0.0)\n",
            "Requirement already satisfied: blis<0.5.0,>=0.4.0 in /usr/local/lib/python3.6/dist-packages (from spacy>=2.2.2->pt_core_news_sm==2.2.5) (0.4.1)\n",
            "Requirement already satisfied: tqdm<5.0.0,>=4.38.0 in /usr/local/lib/python3.6/dist-packages (from spacy>=2.2.2->pt_core_news_sm==2.2.5) (4.41.1)\n",
            "Requirement already satisfied: preshed<3.1.0,>=3.0.2 in /usr/local/lib/python3.6/dist-packages (from spacy>=2.2.2->pt_core_news_sm==2.2.5) (3.0.5)\n",
            "Requirement already satisfied: requests<3.0.0,>=2.13.0 in /usr/local/lib/python3.6/dist-packages (from spacy>=2.2.2->pt_core_news_sm==2.2.5) (2.23.0)\n",
            "Requirement already satisfied: plac<1.2.0,>=0.9.6 in /usr/local/lib/python3.6/dist-packages (from spacy>=2.2.2->pt_core_news_sm==2.2.5) (1.1.3)\n",
            "Requirement already satisfied: thinc==7.4.0 in /usr/local/lib/python3.6/dist-packages (from spacy>=2.2.2->pt_core_news_sm==2.2.5) (7.4.0)\n",
            "Requirement already satisfied: importlib-metadata>=0.20; python_version < \"3.8\" in /usr/local/lib/python3.6/dist-packages (from catalogue<1.1.0,>=0.0.7->spacy>=2.2.2->pt_core_news_sm==2.2.5) (3.4.0)\n",
            "Requirement already satisfied: idna<3,>=2.5 in /usr/local/lib/python3.6/dist-packages (from requests<3.0.0,>=2.13.0->spacy>=2.2.2->pt_core_news_sm==2.2.5) (2.10)\n",
            "Requirement already satisfied: urllib3!=1.25.0,!=1.25.1,<1.26,>=1.21.1 in /usr/local/lib/python3.6/dist-packages (from requests<3.0.0,>=2.13.0->spacy>=2.2.2->pt_core_news_sm==2.2.5) (1.24.3)\n",
            "Requirement already satisfied: certifi>=2017.4.17 in /usr/local/lib/python3.6/dist-packages (from requests<3.0.0,>=2.13.0->spacy>=2.2.2->pt_core_news_sm==2.2.5) (2020.12.5)\n",
            "Requirement already satisfied: chardet<4,>=3.0.2 in /usr/local/lib/python3.6/dist-packages (from requests<3.0.0,>=2.13.0->spacy>=2.2.2->pt_core_news_sm==2.2.5) (3.0.4)\n",
            "Requirement already satisfied: typing-extensions>=3.6.4; python_version < \"3.8\" in /usr/local/lib/python3.6/dist-packages (from importlib-metadata>=0.20; python_version < \"3.8\"->catalogue<1.1.0,>=0.0.7->spacy>=2.2.2->pt_core_news_sm==2.2.5) (3.7.4.3)\n",
            "Requirement already satisfied: zipp>=0.5 in /usr/local/lib/python3.6/dist-packages (from importlib-metadata>=0.20; python_version < \"3.8\"->catalogue<1.1.0,>=0.0.7->spacy>=2.2.2->pt_core_news_sm==2.2.5) (3.4.0)\n",
            "Building wheels for collected packages: pt-core-news-sm\n",
            "  Building wheel for pt-core-news-sm (setup.py) ... \u001b[?25l\u001b[?25hdone\n",
            "  Created wheel for pt-core-news-sm: filename=pt_core_news_sm-2.2.5-cp36-none-any.whl size=21186283 sha256=63650cbab4b927c34a6df5ba97d35757fba10e75e4a070b3539733ba18c0aba9\n",
            "  Stored in directory: /tmp/pip-ephem-wheel-cache-fm731nqz/wheels/ea/94/74/ec9be8418e9231b471be5dc7e1b45dd670019a376a6b5bc1c0\n",
            "Successfully built pt-core-news-sm\n",
            "Installing collected packages: pt-core-news-sm\n",
            "Successfully installed pt-core-news-sm-2.2.5\n",
            "\u001b[38;5;2m✔ Download and installation successful\u001b[0m\n",
            "You can now load the model via spacy.load('pt_core_news_sm')\n",
            "\u001b[38;5;2m✔ Linking successful\u001b[0m\n",
            "/usr/local/lib/python3.6/dist-packages/pt_core_news_sm -->\n",
            "/usr/local/lib/python3.6/dist-packages/spacy/data/pt\n",
            "You can now load the model via spacy.load('pt')\n"
          ],
          "name": "stdout"
        }
      ]
    },
    {
      "cell_type": "markdown",
      "metadata": {
        "id": "G63vRCQ07kAQ"
      },
      "source": [
        "### Mounting Google Drive"
      ]
    },
    {
      "cell_type": "code",
      "metadata": {
        "colab": {
          "base_uri": "https://localhost:8080/"
        },
        "id": "ch8SOJkB0m8d",
        "outputId": "1508323a-0579-4e60-fcae-a8101a397a6d"
      },
      "source": [
        "from google.colab import drive\n",
        "drive.mount('/content/gdrive', force_remount=True)\n",
        "root_dir = '/content/gdrive/My Drive/'"
      ],
      "execution_count": null,
      "outputs": [
        {
          "output_type": "stream",
          "text": [
            "Mounted at /content/gdrive\n"
          ],
          "name": "stdout"
        }
      ]
    },
    {
      "cell_type": "markdown",
      "metadata": {
        "id": "4URNpR76H0FQ"
      },
      "source": [
        "### Application parameters"
      ]
    },
    {
      "cell_type": "code",
      "metadata": {
        "id": "gvjQa68e9Sv5"
      },
      "source": [
        "S = 500 # sentence length\n",
        "BATCH_SIZE = 64\n",
        "NUM_OF_CLASSES = 6\n",
        "\n",
        "dataset_fraction = 0.1 # fraction of validation dataset to be used\n",
        "\n",
        "MLP_HIDDEN_UNITS = 128\n",
        "EMBEDDING_DIM = 100\n",
        "\n",
        "dataset_dir = root_dir + 'Machine Learning/Victor datasets/'\n",
        "model_path = dataset_dir + 'CNN/'\n",
        "model_file = model_path + f'pytorch_model-{S}-{dataset_fraction}.pt'"
      ],
      "execution_count": null,
      "outputs": []
    },
    {
      "cell_type": "markdown",
      "metadata": {
        "id": "XfnTl_oYKSi4"
      },
      "source": [
        "### Loading and preprocessing datasets"
      ]
    },
    {
      "cell_type": "code",
      "metadata": {
        "id": "7lU7PbT21LVP"
      },
      "source": [
        "import torch\n",
        "import torch.nn as nn\n",
        "import torch.nn.functional as F\n",
        "import torch.optim as optim\n",
        "from torchtext import data\n",
        "from tqdm.notebook import trange, tqdm_notebook\n",
        "import numpy as np\n",
        "from datetime import datetime"
      ],
      "execution_count": null,
      "outputs": []
    },
    {
      "cell_type": "code",
      "metadata": {
        "id": "mpITBF9GOV_t"
      },
      "source": [
        "if dataset_fraction == 1.0: # full dataset\n",
        "  train_ds_file = 'train_small.csv'\n",
        "  validation_ds_file = 'validation_small.csv'\n",
        "else:\n",
        "  train_ds_file = f'train_small.csv-croped_{dataset_fraction}.csv'\n",
        "  validation_ds_file = f'validation_small.csv-croped_{dataset_fraction}.csv'"
      ],
      "execution_count": null,
      "outputs": []
    },
    {
      "cell_type": "code",
      "metadata": {
        "id": "GagKYGx_Nm74"
      },
      "source": [
        "import spacy\n",
        "\n",
        "spacy_pt = spacy.load('pt')\n",
        "\n",
        "def tokenizer(text):\n",
        "  return [tok.text for tok in spacy_pt.tokenizer(text)]\n"
      ],
      "execution_count": null,
      "outputs": []
    },
    {
      "cell_type": "code",
      "metadata": {
        "colab": {
          "base_uri": "https://localhost:8080/"
        },
        "id": "Xesa3Pnh3OMA",
        "outputId": "dd9e43d4-488c-4894-bc5e-6459eea1192f"
      },
      "source": [
        "%%time\n",
        "\n",
        "TEXT = data.Field(\n",
        "    tokenize=tokenizer, \n",
        "    lower=True, \n",
        "    fix_length=S)\n",
        "LABEL = data.Field(\n",
        "    sequential=False, \n",
        "    unk_token=None)\n",
        "\n",
        "# we must load the train dataset in order to get the same train's vocabulary\n",
        "train_data, valid_data = data.TabularDataset.splits(\n",
        "    path=dataset_dir, \n",
        "    train=train_ds_file,\n",
        "    validation=validation_ds_file, \n",
        "    format='csv', \n",
        "    skip_header = True, \n",
        "    fields=[(None, None), (None, None), (None, None), ('label', LABEL), (None, None), ('text', TEXT)])"
      ],
      "execution_count": null,
      "outputs": [
        {
          "output_type": "stream",
          "text": [
            "CPU times: user 40.2 s, sys: 512 ms, total: 40.8 s\n",
            "Wall time: 42.8 s\n"
          ],
          "name": "stdout"
        }
      ]
    },
    {
      "cell_type": "code",
      "metadata": {
        "id": "jIapB9iP3Wz4"
      },
      "source": [
        "TEXT.build_vocab(train_data)\n",
        "LABEL.build_vocab(train_data)"
      ],
      "execution_count": null,
      "outputs": []
    },
    {
      "cell_type": "code",
      "metadata": {
        "id": "JfELmTVb3chG"
      },
      "source": [
        "device = torch.device('cuda' if torch.cuda.is_available() else 'cpu')\n",
        "\n",
        "_, valid_iterator = data.BucketIterator.splits(\n",
        "  (train_data, valid_data),\n",
        "  sort = False, #don't sort test/validation data\n",
        "  batch_sizes=(BATCH_SIZE, BATCH_SIZE, BATCH_SIZE),\n",
        "  device=device)"
      ],
      "execution_count": null,
      "outputs": []
    },
    {
      "cell_type": "markdown",
      "metadata": {
        "id": "4C-4iZDQD8YF"
      },
      "source": [
        "### Model"
      ]
    },
    {
      "cell_type": "code",
      "metadata": {
        "id": "3DqTOBqf7DEW"
      },
      "source": [
        "class VictorCNN(nn.Module):\n",
        "\n",
        "  def __init__(self, sentence_len, vocab_size, embed_dim, n_classes, mlp_h):\n",
        "    \"\"\"\n",
        "    sentence_len: the length of the each input sentence.\n",
        "    vocab_size:   the number of tokens in the vocabulary.\n",
        "    embed_dim:    the dimension of each embedding word vector.\n",
        "    n_classes:    number of classes, i.e., the output dimension of this NN.\n",
        "    mlp_h:        number of hidden units of the MLP NN.\n",
        "    \"\"\"\n",
        "    super(VictorCNN, self).__init__()\n",
        "        \n",
        "    self.word_embeddings = nn.Embedding(vocab_size, embed_dim)\n",
        "    self.cnn_a = self.create_cnn_layer(embed_dim, 256, 3, 1)\n",
        "    self.cnn_b = self.create_cnn_layer(embed_dim, 256, 4, 2)\n",
        "    self.cnn_c = self.create_cnn_layer(embed_dim, 256, 5, 2)\n",
        "    self.max_pool = nn.MaxPool1d(50)\n",
        "    self.dropout = nn.Dropout(p=0.5)\n",
        "    self.linear_h = nn.Linear(3840, mlp_h)\n",
        "    self.linear_o = nn.Linear(mlp_h, n_classes)\n",
        "\n",
        "  def create_cnn_layer(self, n_channels, n_filters, kernel_size, padding):\n",
        "    return nn.Sequential(\n",
        "        nn.Conv1d(n_channels, n_filters, kernel_size, padding=padding), \n",
        "        nn.BatchNorm1d(n_filters), \n",
        "        nn.MaxPool1d(2)\n",
        "    )\n",
        "\n",
        "  def forward(self, sentence):\n",
        "    # sentence.shape: (s_len, b_len)\n",
        "    embeds = self.word_embeddings(sentence).permute(1, 2, 0) # embeds shape: (b_len, embedding_dim, s_len)\n",
        "    a = self.cnn_a(embeds)\n",
        "    b = self.cnn_b(embeds)\n",
        "    c = self.cnn_c(embeds)\n",
        "    x = torch.cat((a, b, c), dim=1)\n",
        "    x = self.max_pool(x)\n",
        "    x = torch.flatten(x, start_dim=1)\n",
        "    x = self.dropout(x)\n",
        "    x = F.relu(self.linear_h(x))\n",
        "    x = self.linear_o(x)\n",
        "    return x"
      ],
      "execution_count": null,
      "outputs": []
    },
    {
      "cell_type": "markdown",
      "metadata": {
        "id": "UdLzn3y0Pz-C"
      },
      "source": [
        "### Evaluation"
      ]
    },
    {
      "cell_type": "code",
      "metadata": {
        "id": "21I1c-2tPZaS"
      },
      "source": [
        "from sklearn.metrics import f1_score\n",
        "\n",
        "def compute_metrics(targets, predictions):\n",
        "  f1_macro = f1_score(targets, np.argmax(predictions, axis=1), average='macro')\n",
        "  return f1_macro\n",
        "\n",
        "def predict(model, iterator, set_name):\n",
        "  model.eval()\n",
        "  predictions = None\n",
        "  targets = None\n",
        "  with torch.no_grad():\n",
        "    for batch in tqdm_notebook(iterator, desc=f'Predicting ({set_name})', unit='batch', leave=False):\n",
        "      out = model(batch.text)\n",
        "      if predictions == None:\n",
        "        predictions = out\n",
        "        targets = batch.label\n",
        "      else:\n",
        "        predictions = torch.cat([predictions, out], dim=0)\n",
        "        targets = torch.cat([targets, batch.label], dim=0)\n",
        "  \n",
        "  return predictions.cpu().numpy(), targets.cpu().numpy()\n",
        "\n",
        "def evaluate(model, iterator, set_name):  \n",
        "  predictions, targets = predict(model, iterator, set_name)\n",
        "  return compute_metrics(targets, predictions)\n"
      ],
      "execution_count": null,
      "outputs": []
    },
    {
      "cell_type": "code",
      "metadata": {
        "id": "BzcH6UOuP1sJ"
      },
      "source": [
        "def load_saved_model(file_name):\n",
        "  m = VictorCNN(S, len(TEXT.vocab), EMBEDDING_DIM, NUM_OF_CLASSES, MLP_HIDDEN_UNITS)\n",
        "  m = m.to(device)\n",
        "  m.load_state_dict(torch.load(file_name, map_location=device))\n",
        "  m.eval()\n",
        "  return m\n",
        "\n",
        "model = load_saved_model(model_file)"
      ],
      "execution_count": null,
      "outputs": []
    },
    {
      "cell_type": "code",
      "metadata": {
        "id": "z_E8o57eP8fC",
        "colab": {
          "base_uri": "https://localhost:8080/",
          "height": 17,
          "referenced_widgets": [
            "67ad8eb1af784c52ba4fba8338ed06d0",
            "ee5275fe0c4244a8bc1ca311a9d5a5cf",
            "87ff95637ae143c9a2c94f6904e44d26",
            "75577452d37f4eb287a1940fe5bb7fa7",
            "aef11384a837441287e93dc6332db08f",
            "aef63d00e7db4f09bbb99d6acf96c17e",
            "366dbb83b24342c68014ad7079a1e412",
            "85751acf11854c49a48c8f143cd08015"
          ]
        },
        "outputId": "9654132a-1bb6-4577-c40f-f36612bc2419"
      },
      "source": [
        "predictions, targets = predict(model, valid_iterator, 'validation set')"
      ],
      "execution_count": null,
      "outputs": [
        {
          "output_type": "display_data",
          "data": {
            "application/vnd.jupyter.widget-view+json": {
              "model_id": "67ad8eb1af784c52ba4fba8338ed06d0",
              "version_minor": 0,
              "version_major": 2
            },
            "text/plain": [
              "HBox(children=(FloatProgress(value=0.0, description='Predicting (validation set)', max=298.0, style=ProgressSt…"
            ]
          },
          "metadata": {
            "tags": []
          }
        },
        {
          "output_type": "stream",
          "text": [
            "\r"
          ],
          "name": "stdout"
        }
      ]
    },
    {
      "cell_type": "code",
      "metadata": {
        "id": "7Xj9twKIP-5D",
        "colab": {
          "base_uri": "https://localhost:8080/",
          "height": 946
        },
        "outputId": "5f70083e-5d22-41e8-d2ea-6b5edd1e94c2"
      },
      "source": [
        "%matplotlib inline\n",
        "import matplotlib.pyplot as plt\n",
        "from sklearn.metrics import classification_report, confusion_matrix, ConfusionMatrixDisplay\n",
        "\n",
        "# Confusion matrix\n",
        "cm = confusion_matrix(targets, np.argmax(predictions, axis=1), normalize='true')\n",
        "f = plt.figure(figsize=(10,10))\n",
        "ax = f.add_subplot()\n",
        "disp = ConfusionMatrixDisplay(confusion_matrix=cm, display_labels=LABEL.vocab.itos)\n",
        "disp.plot(xticks_rotation='vertical', cmap=plt.cm.Blues, ax=ax)\n",
        "\n",
        "# Report\n",
        "validation_report = classification_report(\n",
        "    targets, \n",
        "    np.argmax(predictions, axis=1), \n",
        "    digits=4, \n",
        "    target_names=LABEL.vocab.itos)\n",
        "print(validation_report)\n"
      ],
      "execution_count": null,
      "outputs": [
        {
          "output_type": "stream",
          "text": [
            "                                  precision    recall  f1-score   support\n",
            "\n",
            "                          outros     0.8481    0.8961    0.8714      8410\n",
            "                   peticao_do_RE     0.8591    0.8702    0.8646      6364\n",
            "agravo_em_recurso_extraordinario     0.8406    0.6994    0.7635      2149\n",
            "                        sentenca     0.8985    0.8221    0.8586      1636\n",
            "          acordao_de_2_instancia     0.9321    0.8261    0.8759       299\n",
            "     despacho_de_admissibilidade     0.9119    0.7923    0.8480       183\n",
            "\n",
            "                        accuracy                         0.8568     19041\n",
            "                       macro avg     0.8817    0.8177    0.8470     19041\n",
            "                    weighted avg     0.8572    0.8568    0.8557     19041\n",
            "\n"
          ],
          "name": "stdout"
        },
        {
          "output_type": "display_data",
          "data": {
            "image/png": "[encoded data removed]",
            "text/plain": [
              "<Figure size 720x720 with 2 Axes>"
            ]
          },
          "metadata": {
            "tags": [],
            "needs_background": "light"
          }
        }
      ]
    },
    {
      "cell_type": "markdown",
      "metadata": {
        "id": "njWM1Lr1_5yn"
      },
      "source": [
        "References:\n",
        "\n",
        "- https://medium.com/@rohit_agrawal/using-fine-tuned-gensim-word2vec-embeddings-with-torchtext-and-pytorch-17eea2883cd\n"
      ]
    }
  ]
}