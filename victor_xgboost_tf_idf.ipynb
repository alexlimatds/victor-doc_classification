{
  "nbformat": 4,
  "nbformat_minor": 0,
  "metadata": {
    "kernelspec": {
      "display_name": "Python 3",
      "language": "python",
      "name": "python3"
    },
    "language_info": {
      "codemirror_mode": {
        "name": "ipython",
        "version": 3
      },
      "file_extension": ".py",
      "mimetype": "text/x-python",
      "name": "python",
      "nbconvert_exporter": "python",
      "pygments_lexer": "ipython3",
      "version": "3.7.9"
    },
    "colab": {
      "name": "victor-xgboost-tf-idf.ipynb",
      "provenance": [],
      "include_colab_link": true
    },
    "accelerator": "GPU"
  },
  "cells": [
    {
      "cell_type": "markdown",
      "metadata": {
        "id": "view-in-github",
        "colab_type": "text"
      },
      "source": [
        "<a href=\"https://colab.research.google.com/github/alexlimatds/victor-doc_classification/blob/main/victor_xgboost_tf_idf.ipynb\" target=\"_parent\"><img src=\"https://colab.research.google.com/assets/colab-badge.svg\" alt=\"Open In Colab\"/></a>"
      ]
    },
    {
      "cell_type": "markdown",
      "metadata": {
        "id": "DOgM-DLADqab"
      },
      "source": [
        "## Document classification with XGBoost \n",
        "\n",
        "This notebook implements a XGBoost model to perform classification of documents from the Victor dataset.\n",
        "\n",
        "original source code: https://github.com/peluz/VICTOR-dataset/blob/master/shallow_clf_docType.ipynb"
      ]
    },
    {
      "cell_type": "code",
      "metadata": {
        "id": "bh_eOqdyCkC8"
      },
      "source": [
        "%load_ext autoreload\n",
        "%autoreload 2\n",
        "\n",
        "import pandas as pd\n",
        "import numpy as np\n",
        "from tqdm import tqdm\n",
        "\n",
        "tqdm.pandas()"
      ],
      "execution_count": null,
      "outputs": []
    },
    {
      "cell_type": "code",
      "metadata": {
        "colab": {
          "base_uri": "https://localhost:8080/"
        },
        "id": "5mn57SQ0DDrU",
        "outputId": "5eff7516-6212-4a2a-a255-fcb8383df853"
      },
      "source": [
        "from google.colab import drive\n",
        "drive.mount('/content/gdrive', force_remount=True)\n",
        "root_dir = '/content/gdrive/My Drive/'"
      ],
      "execution_count": null,
      "outputs": [
        {
          "output_type": "stream",
          "text": [
            "Mounted at /content/gdrive\n"
          ],
          "name": "stdout"
        }
      ]
    },
    {
      "cell_type": "markdown",
      "metadata": {
        "id": "NxnjIcCIx8yy"
      },
      "source": [
        "### Loading and preprocessing dataset"
      ]
    },
    {
      "cell_type": "code",
      "metadata": {
        "id": "VUvE2ardCkDC"
      },
      "source": [
        "dataset_dir = root_dir + 'Machine Learning/Victor datasets/'\n",
        "\n",
        "train = pd.read_csv(dataset_dir + \"train_small.csv\", usecols=[\"document_type\", \"body\"])\n",
        "valid = pd.read_csv(dataset_dir + \"validation_small.csv\", usecols=[\"document_type\", \"body\"])\n",
        "test = pd.read_csv(dataset_dir + \"test_small.csv\", usecols=[\"document_type\", \"body\"])"
      ],
      "execution_count": null,
      "outputs": []
    },
    {
      "cell_type": "code",
      "metadata": {
        "colab": {
          "base_uri": "https://localhost:8080/"
        },
        "id": "qYNcPaeSCkDD",
        "outputId": "f555c89b-5fd3-4ffc-b2f4-ccf573980d7a"
      },
      "source": [
        "def strip_trash(df, column=\"body\"):\n",
        "  df[column] = df[column].str.strip('{}\"')\n",
        "  return df\n",
        "\n",
        "train_clean = strip_trash(train)\n",
        "valid_clean = strip_trash(valid)\n",
        "test_clean = strip_trash(test)\n",
        "len(train)"
      ],
      "execution_count": null,
      "outputs": [
        {
          "output_type": "execute_result",
          "data": {
            "text/plain": [
              "149217"
            ]
          },
          "metadata": {
            "tags": []
          },
          "execution_count": 4
        }
      ]
    },
    {
      "cell_type": "code",
      "metadata": {
        "id": "B_P9hFoVDubR"
      },
      "source": [
        "del(train)\n",
        "del(valid)\n",
        "del(test)"
      ],
      "execution_count": null,
      "outputs": []
    },
    {
      "cell_type": "code",
      "metadata": {
        "colab": {
          "base_uri": "https://localhost:8080/"
        },
        "id": "5hxaunDwDxa0",
        "outputId": "0f0c5b16-59b0-47e4-89e0-f6e148ff5966"
      },
      "source": [
        "x_train, y_train = train_clean[\"body\"].values, train_clean[\"document_type\"].values\n",
        "x_valid, y_valid = valid_clean[\"body\"].values, valid_clean[\"document_type\"].values\n",
        "x_test, y_test = test_clean[\"body\"].values, test_clean[\"document_type\"].values\n",
        "\n",
        "len(x_train), len(y_train), len(x_valid), len(y_valid), len(x_test), len(y_test)"
      ],
      "execution_count": null,
      "outputs": [
        {
          "output_type": "execute_result",
          "data": {
            "text/plain": [
              "(149217, 149217, 94735, 94735, 95526, 95526)"
            ]
          },
          "metadata": {
            "tags": []
          },
          "execution_count": 6
        }
      ]
    },
    {
      "cell_type": "code",
      "metadata": {
        "id": "UJu4jr6ID6gj"
      },
      "source": [
        "del(train_clean)\n",
        "del(valid_clean)\n",
        "del(test_clean)"
      ],
      "execution_count": null,
      "outputs": []
    },
    {
      "cell_type": "markdown",
      "metadata": {
        "id": "uygqMJjmyFl-"
      },
      "source": [
        "### Training model"
      ]
    },
    {
      "cell_type": "code",
      "metadata": {
        "id": "15qi_H03EHik"
      },
      "source": [
        "from sklearn.pipeline import Pipeline\n",
        "from sklearn.feature_extraction.text import TfidfVectorizer\n",
        "from xgboost.sklearn import XGBClassifier\n",
        "\n",
        "pipe_xgb = Pipeline((\n",
        "  (\"vectorizer\", \n",
        "   TfidfVectorizer(\n",
        "       ngram_range=(1, 2), \n",
        "       sublinear_tf=True,\n",
        "       min_df=2, \n",
        "       max_df=0.5)),\n",
        "  (\"clf\", XGBClassifier())\n",
        "))"
      ],
      "execution_count": null,
      "outputs": []
    },
    {
      "cell_type": "code",
      "metadata": {
        "colab": {
          "base_uri": "https://localhost:8080/"
        },
        "id": "z5LFoYUDF4P2",
        "outputId": "e3adb17e-6cf0-4357-ab54-b729315e452d"
      },
      "source": [
        "%%time\n",
        "\n",
        "pipe_xgb.fit(x_train, y_train)"
      ],
      "execution_count": null,
      "outputs": [
        {
          "output_type": "stream",
          "text": [
            "CPU times: user 43min 32s, sys: 2.78 s, total: 43min 35s\n",
            "Wall time: 43min 35s\n"
          ],
          "name": "stdout"
        },
        {
          "output_type": "execute_result",
          "data": {
            "text/plain": [
              "Pipeline(memory=None,\n",
              "         steps=[('vectorizer',\n",
              "                 TfidfVectorizer(analyzer='word', binary=False,\n",
              "                                 decode_error='strict',\n",
              "                                 dtype=<class 'numpy.float64'>,\n",
              "                                 encoding='utf-8', input='content',\n",
              "                                 lowercase=True, max_df=0.5, max_features=None,\n",
              "                                 min_df=2, ngram_range=(1, 2), norm='l2',\n",
              "                                 preprocessor=None, smooth_idf=True,\n",
              "                                 stop_words=None, strip_accents=None,\n",
              "                                 sublinear_tf=True,\n",
              "                                 token_patte...\n",
              "                 XGBClassifier(base_score=0.5, booster='gbtree',\n",
              "                               colsample_bylevel=1, colsample_bynode=1,\n",
              "                               colsample_bytree=1, gamma=0, learning_rate=0.1,\n",
              "                               max_delta_step=0, max_depth=3,\n",
              "                               min_child_weight=1, missing=None,\n",
              "                               n_estimators=100, n_jobs=1, nthread=None,\n",
              "                               objective='multi:softprob', random_state=0,\n",
              "                               reg_alpha=0, reg_lambda=1, scale_pos_weight=1,\n",
              "                               seed=None, silent=None, subsample=1,\n",
              "                               verbosity=1))],\n",
              "         verbose=False)"
            ]
          },
          "metadata": {
            "tags": []
          },
          "execution_count": 9
        }
      ]
    },
    {
      "cell_type": "markdown",
      "metadata": {
        "id": "sqtGnkWzyIqF"
      },
      "source": [
        "### Evaluation"
      ]
    },
    {
      "cell_type": "code",
      "metadata": {
        "id": "92hxr4PhF-Ya"
      },
      "source": [
        "preds_train = pipe_xgb.predict(x_train)\n",
        "preds_test = pipe_xgb.predict(x_test)\n",
        "preds_valid = pipe_xgb.predict(x_valid)"
      ],
      "execution_count": null,
      "outputs": []
    },
    {
      "cell_type": "code",
      "metadata": {
        "colab": {
          "base_uri": "https://localhost:8080/"
        },
        "id": "PXlMBXVR7cgF",
        "outputId": "b18d3deb-4384-418a-d258-384280ba2462"
      },
      "source": [
        "from sklearn.metrics import classification_report\n",
        "\n",
        "test_report = classification_report(\n",
        "    y_test, \n",
        "    preds_test, \n",
        "    digits=4, \n",
        "    target_names=pipe_xgb.classes_)\n",
        "\n",
        "valid_report = classification_report(\n",
        "    y_valid, \n",
        "    preds_valid, \n",
        "    digits=4, \n",
        "    target_names=pipe_xgb.classes_)\n",
        "\n",
        "train_report = classification_report(\n",
        "    y_train, \n",
        "    preds_train, \n",
        "    digits=4, \n",
        "    target_names=pipe_xgb.classes_)\n",
        "\n",
        "print('Train\\n', train_report)\n",
        "print('Validation\\n', valid_report)\n",
        "print('Test\\n', test_report)"
      ],
      "execution_count": null,
      "outputs": [
        {
          "output_type": "stream",
          "text": [
            "Train\n",
            "                                   precision    recall  f1-score   support\n",
            "\n",
            "          acordao_de_2_instancia     0.9381    0.5750    0.7130       553\n",
            "agravo_em_recurso_extraordinario     0.9803    0.2541    0.4036      2546\n",
            "     despacho_de_admissibilidade     0.9279    0.5578    0.6968       346\n",
            "                          outros     0.9362    0.9968    0.9655    134134\n",
            "                   peticao_do_RE     0.9081    0.4217    0.5759      9509\n",
            "                        sentenca     0.9832    0.3584    0.5253      2129\n",
            "\n",
            "                        accuracy                         0.9358    149217\n",
            "                       macro avg     0.9456    0.5273    0.6467    149217\n",
            "                    weighted avg     0.9358    0.9358    0.9233    149217\n",
            "\n",
            "Validation\n",
            "                                   precision    recall  f1-score   support\n",
            "\n",
            "          acordao_de_2_instancia     0.9536    0.6187    0.7505       299\n",
            "agravo_em_recurso_extraordinario     0.9714    0.1582    0.2721      2149\n",
            "     despacho_de_admissibilidade     0.9072    0.4809    0.6286       183\n",
            "                          outros     0.9310    0.9956    0.9622     84104\n",
            "                   peticao_do_RE     0.8988    0.4855    0.6305      6364\n",
            "                        sentenca     0.9764    0.4291    0.5962      1636\n",
            "\n",
            "                        accuracy                         0.9304     94735\n",
            "                       macro avg     0.9397    0.5280    0.6400     94735\n",
            "                    weighted avg     0.9306    0.9304    0.9166     94735\n",
            "\n",
            "Test\n",
            "                                   precision    recall  f1-score   support\n",
            "\n",
            "          acordao_de_2_instancia     0.9717    0.7546    0.8495       273\n",
            "agravo_em_recurso_extraordinario     0.8495    0.1380    0.2374      1841\n",
            "     despacho_de_admissibilidade     0.9213    0.4141    0.5714       198\n",
            "                          outros     0.9350    0.9956    0.9644     85408\n",
            "                   peticao_do_RE     0.9001    0.4710    0.6184      6331\n",
            "                        sentenca     0.9865    0.4447    0.6131      1475\n",
            "\n",
            "                        accuracy                         0.9339     95526\n",
            "                       macro avg     0.9273    0.5363    0.6424     95526\n",
            "                    weighted avg     0.9319    0.9339    0.9209     95526\n",
            "\n"
          ],
          "name": "stdout"
        }
      ]
    },
    {
      "cell_type": "code",
      "metadata": {
        "id": "34t6N8VO7N-Z"
      },
      "source": [
        ""
      ],
      "execution_count": null,
      "outputs": []
    }
  ]
}