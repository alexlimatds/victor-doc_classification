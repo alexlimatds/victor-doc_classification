{
  "nbformat": 4,
  "nbformat_minor": 0,
  "metadata": {
    "kernelspec": {
      "display_name": "Python 3",
      "language": "python",
      "name": "python3"
    },
    "language_info": {
      "codemirror_mode": {
        "name": "ipython",
        "version": 3
      },
      "file_extension": ".py",
      "mimetype": "text/x-python",
      "name": "python",
      "nbconvert_exporter": "python",
      "pygments_lexer": "ipython3",
      "version": "3.7.9"
    },
    "colab": {
      "name": "victor-SVM-tf-idf-SMOTE.ipynb",
      "provenance": [],
      "include_colab_link": true
    }
  },
  "cells": [
    {
      "cell_type": "markdown",
      "metadata": {
        "id": "view-in-github",
        "colab_type": "text"
      },
      "source": [
        "<a href=\"https://colab.research.google.com/github/alexlimatds/victor-doc_classification/blob/main/victor_SVM_tf_idf_SMOTE.ipynb\" target=\"_parent\"><img src=\"https://colab.research.google.com/assets/colab-badge.svg\" alt=\"Open In Colab\"/></a>"
      ]
    },
    {
      "cell_type": "markdown",
      "metadata": {
        "id": "DOgM-DLADqab"
      },
      "source": [
        "## Document classification with SVM and input oversampling\n",
        "\n",
        "This notebook implements a SVM model to perform classification of documents from the Victor dataset. Because the dataset is high imbalanced, the SMOTE algorithm is applied to oversample the minority classes.\n",
        "\n",
        "original source code: https://github.com/peluz/VICTOR-dataset/blob/master/shallow_clf_docType.ipynb"
      ]
    },
    {
      "cell_type": "code",
      "metadata": {
        "id": "bh_eOqdyCkC8"
      },
      "source": [
        "%load_ext autoreload\n",
        "%autoreload 2\n",
        "\n",
        "import pandas as pd\n",
        "import numpy as np\n",
        "from tqdm import tqdm"
      ],
      "execution_count": null,
      "outputs": []
    },
    {
      "cell_type": "code",
      "metadata": {
        "colab": {
          "base_uri": "https://localhost:8080/"
        },
        "id": "5mn57SQ0DDrU",
        "outputId": "abb1a0df-2347-493d-ea57-afc71fef0622"
      },
      "source": [
        "from google.colab import drive\n",
        "drive.mount('/content/gdrive', force_remount=True)\n",
        "root_dir = '/content/gdrive/My Drive/'"
      ],
      "execution_count": null,
      "outputs": [
        {
          "output_type": "stream",
          "text": [
            "Mounted at /content/gdrive\n"
          ],
          "name": "stdout"
        }
      ]
    },
    {
      "cell_type": "markdown",
      "metadata": {
        "id": "RPIYTFyGdLk3"
      },
      "source": [
        "### Loading and pre-processing the dataset"
      ]
    },
    {
      "cell_type": "code",
      "metadata": {
        "id": "VUvE2ardCkDC"
      },
      "source": [
        "dataset_dir = root_dir + 'Machine Learning/Victor datasets/'\n",
        "\n",
        "train = pd.read_csv(dataset_dir + \"train_small.csv\", usecols=[\"document_type\", \"body\"])\n",
        "valid = pd.read_csv(dataset_dir + \"validation_small.csv\", usecols=[\"document_type\", \"body\"])\n",
        "test = pd.read_csv(dataset_dir + \"test_small.csv\", usecols=[\"document_type\", \"body\"])"
      ],
      "execution_count": null,
      "outputs": []
    },
    {
      "cell_type": "code",
      "metadata": {
        "colab": {
          "base_uri": "https://localhost:8080/"
        },
        "id": "qYNcPaeSCkDD",
        "outputId": "5e8f5c0c-02fa-47e1-a1fe-87871c8bd00a"
      },
      "source": [
        "def strip_trash(df, column=\"body\"):\n",
        "  df[column] = df[column].str.strip('{}\"')\n",
        "  return df\n",
        "\n",
        "train_clean = strip_trash(train)\n",
        "valid_clean = strip_trash(valid)\n",
        "test_clean = strip_trash(test)\n",
        "len(train)"
      ],
      "execution_count": null,
      "outputs": [
        {
          "output_type": "execute_result",
          "data": {
            "text/plain": [
              "149217"
            ]
          },
          "metadata": {
            "tags": []
          },
          "execution_count": 4
        }
      ]
    },
    {
      "cell_type": "code",
      "metadata": {
        "id": "B_P9hFoVDubR"
      },
      "source": [
        "del(train)\n",
        "del(valid)\n",
        "del(test)"
      ],
      "execution_count": null,
      "outputs": []
    },
    {
      "cell_type": "markdown",
      "metadata": {
        "id": "6UVQUjCddghQ"
      },
      "source": [
        "### Text vectorization"
      ]
    },
    {
      "cell_type": "code",
      "metadata": {
        "colab": {
          "base_uri": "https://localhost:8080/"
        },
        "id": "FPU0MXB_QeYM",
        "outputId": "34779cd3-b4a1-483e-c057-f2f0039e4610"
      },
      "source": [
        "%%time\n",
        "from sklearn.feature_extraction.text import TfidfVectorizer\n",
        "\n",
        "tfidf = TfidfVectorizer(\n",
        "    ngram_range=(1, 2), \n",
        "    sublinear_tf=True,\n",
        "    min_df=2, \n",
        "    max_df=0.5)\n",
        "tfidf.fit(train_clean['body'])"
      ],
      "execution_count": null,
      "outputs": [
        {
          "output_type": "stream",
          "text": [
            "CPU times: user 1min 3s, sys: 1.46 s, total: 1min 4s\n",
            "Wall time: 1min 5s\n"
          ],
          "name": "stdout"
        }
      ]
    },
    {
      "cell_type": "code",
      "metadata": {
        "colab": {
          "base_uri": "https://localhost:8080/",
          "height": 324
        },
        "id": "5hxaunDwDxa0",
        "outputId": "df36ecb7-d4e9-4776-cfd5-c331a7b2482f"
      },
      "source": [
        "%%time\n",
        "\n",
        "x_train = tfidf.transform(train_clean['body'])\n",
        "y_train = train_clean[\"document_type\"].values\n",
        "del(train_clean)\n",
        "\n",
        "x_test = tfidf.transform(test_clean['body'])\n",
        "y_test = test_clean[\"document_type\"].values\n",
        "del(test_clean)\n",
        "\n",
        "x_valid = tfidf.transform(valid_clean['body'])\n",
        "y_valid = valid_clean[\"document_type\"].values\n",
        "del(valid_clean)"
      ],
      "execution_count": null,
      "outputs": [
        {
          "output_type": "error",
          "ename": "TypeError",
          "evalue": "ignored",
          "traceback": [
            "\u001b[0;31m---------------------------------------------------------------------------\u001b[0m",
            "\u001b[0;31mTypeError\u001b[0m                                 Traceback (most recent call last)",
            "\u001b[0;32m<ipython-input-7-ac920d198765>\u001b[0m in \u001b[0;36m<module>\u001b[0;34m()\u001b[0m\n\u001b[1;32m     11\u001b[0m \u001b[0;32mdel\u001b[0m\u001b[0;34m(\u001b[0m\u001b[0mvalid_clean\u001b[0m\u001b[0;34m)\u001b[0m\u001b[0;34m\u001b[0m\u001b[0;34m\u001b[0m\u001b[0m\n\u001b[1;32m     12\u001b[0m \u001b[0;34m\u001b[0m\u001b[0m\n\u001b[0;32m---> 13\u001b[0;31m \u001b[0mlen\u001b[0m\u001b[0;34m(\u001b[0m\u001b[0mx_train\u001b[0m\u001b[0;34m)\u001b[0m\u001b[0;34m,\u001b[0m \u001b[0mlen\u001b[0m\u001b[0;34m(\u001b[0m\u001b[0my_train\u001b[0m\u001b[0;34m)\u001b[0m\u001b[0;34m,\u001b[0m \u001b[0mlen\u001b[0m\u001b[0;34m(\u001b[0m\u001b[0mx_valid\u001b[0m\u001b[0;34m)\u001b[0m\u001b[0;34m,\u001b[0m \u001b[0mlen\u001b[0m\u001b[0;34m(\u001b[0m\u001b[0my_valid\u001b[0m\u001b[0;34m)\u001b[0m\u001b[0;34m,\u001b[0m \u001b[0mlen\u001b[0m\u001b[0;34m(\u001b[0m\u001b[0mx_test\u001b[0m\u001b[0;34m)\u001b[0m\u001b[0;34m,\u001b[0m \u001b[0mlen\u001b[0m\u001b[0;34m(\u001b[0m\u001b[0my_test\u001b[0m\u001b[0;34m)\u001b[0m\u001b[0;34m\u001b[0m\u001b[0;34m\u001b[0m\u001b[0m\n\u001b[0m",
            "\u001b[0;32m/usr/local/lib/python3.6/dist-packages/scipy/sparse/base.py\u001b[0m in \u001b[0;36m__len__\u001b[0;34m(self)\u001b[0m\n\u001b[1;32m    293\u001b[0m     \u001b[0;31m# non-zeros is more important.  For now, raise an exception!\u001b[0m\u001b[0;34m\u001b[0m\u001b[0;34m\u001b[0m\u001b[0;34m\u001b[0m\u001b[0m\n\u001b[1;32m    294\u001b[0m     \u001b[0;32mdef\u001b[0m \u001b[0m__len__\u001b[0m\u001b[0;34m(\u001b[0m\u001b[0mself\u001b[0m\u001b[0;34m)\u001b[0m\u001b[0;34m:\u001b[0m\u001b[0;34m\u001b[0m\u001b[0;34m\u001b[0m\u001b[0m\n\u001b[0;32m--> 295\u001b[0;31m         raise TypeError(\"sparse matrix length is ambiguous; use getnnz()\"\n\u001b[0m\u001b[1;32m    296\u001b[0m                         \" or shape[0]\")\n\u001b[1;32m    297\u001b[0m \u001b[0;34m\u001b[0m\u001b[0m\n",
            "\u001b[0;31mTypeError\u001b[0m: sparse matrix length is ambiguous; use getnnz() or shape[0]"
          ]
        }
      ]
    },
    {
      "cell_type": "markdown",
      "metadata": {
        "id": "rlKSHOSWeeUS"
      },
      "source": [
        "### Dataset oversampling"
      ]
    },
    {
      "cell_type": "code",
      "metadata": {
        "colab": {
          "base_uri": "https://localhost:8080/"
        },
        "id": "gL7tvIWcPD-1",
        "outputId": "7d59fc58-bf20-42ed-a53a-3a831464aa26"
      },
      "source": [
        "%%time\n",
        "from imblearn.over_sampling import SMOTE\n",
        "\n",
        "strategy = {\n",
        "    'acordao_de_2_instancia': 2000, \n",
        "    'despacho_de_admissibilidade': 2000\n",
        "}\n",
        "x_train_resampled, y_train_resampled = SMOTE(sampling_strategy=strategy).fit_resample(x_train, y_train)"
      ],
      "execution_count": null,
      "outputs": [
        {
          "output_type": "stream",
          "text": [
            "/usr/local/lib/python3.6/dist-packages/sklearn/utils/deprecation.py:87: FutureWarning: Function safe_indexing is deprecated; safe_indexing is deprecated in version 0.22 and will be removed in version 0.24.\n",
            "  warnings.warn(msg, category=FutureWarning)\n"
          ],
          "name": "stderr"
        },
        {
          "output_type": "stream",
          "text": [
            "CPU times: user 35 s, sys: 4.26 s, total: 39.3 s\n",
            "Wall time: 39.4 s\n"
          ],
          "name": "stdout"
        }
      ]
    },
    {
      "cell_type": "markdown",
      "metadata": {
        "id": "IRnz51-geiep"
      },
      "source": [
        "### Training model"
      ]
    },
    {
      "cell_type": "code",
      "metadata": {
        "id": "15qi_H03EHik"
      },
      "source": [
        "from sklearn.pipeline import Pipeline\n",
        "from sklearn.feature_extraction.text import TfidfVectorizer\n",
        "from sklearn.svm import LinearSVC\n",
        "\n",
        "svm = LinearSVC(\n",
        "    verbose=2, \n",
        "    class_weight=\"balanced\")"
      ],
      "execution_count": null,
      "outputs": []
    },
    {
      "cell_type": "code",
      "metadata": {
        "colab": {
          "base_uri": "https://localhost:8080/"
        },
        "id": "z5LFoYUDF4P2",
        "outputId": "83452907-52f0-4b75-9e32-dcef152b6b46"
      },
      "source": [
        "%%time\n",
        "\n",
        "svm.fit(x_train_resampled, y_train_resampled)"
      ],
      "execution_count": null,
      "outputs": [
        {
          "output_type": "stream",
          "text": [
            "[LibLinear]CPU times: user 1min 46s, sys: 92 ms, total: 1min 46s\n",
            "Wall time: 1min 47s\n"
          ],
          "name": "stdout"
        },
        {
          "output_type": "execute_result",
          "data": {
            "text/plain": [
              "LinearSVC(C=1.0, class_weight='balanced', dual=True, fit_intercept=True,\n",
              "          intercept_scaling=1, loss='squared_hinge', max_iter=1000,\n",
              "          multi_class='ovr', penalty='l2', random_state=None, tol=0.0001,\n",
              "          verbose=2)"
            ]
          },
          "metadata": {
            "tags": []
          },
          "execution_count": 12
        }
      ]
    },
    {
      "cell_type": "markdown",
      "metadata": {
        "id": "-VpmY9hAeqAD"
      },
      "source": [
        "### Evaluation"
      ]
    },
    {
      "cell_type": "code",
      "metadata": {
        "id": "92hxr4PhF-Ya"
      },
      "source": [
        "preds_train = svm.predict(x_train)\n",
        "preds_test = svm.predict(x_test)\n",
        "preds_valid = svm.predict(x_valid)"
      ],
      "execution_count": null,
      "outputs": []
    },
    {
      "cell_type": "code",
      "metadata": {
        "colab": {
          "base_uri": "https://localhost:8080/"
        },
        "id": "PXlMBXVR7cgF",
        "outputId": "c0aa0d83-c091-42a7-b04b-21f87305f824"
      },
      "source": [
        "from sklearn.metrics import classification_report\n",
        "\n",
        "test_report = classification_report(\n",
        "    y_test, \n",
        "    preds_test, \n",
        "    digits=4, \n",
        "    target_names=svm.classes_)\n",
        "\n",
        "valid_report = classification_report(\n",
        "    y_valid, \n",
        "    preds_valid, \n",
        "    digits=4, \n",
        "    target_names=svm.classes_)\n",
        "\n",
        "train_report = classification_report(\n",
        "    y_train, \n",
        "    preds_train, \n",
        "    digits=4, \n",
        "    target_names=svm.classes_)\n",
        "\n",
        "print('Train\\n', train_report)\n",
        "print('Validation\\n', valid_report)\n",
        "print('Test\\n', test_report)"
      ],
      "execution_count": null,
      "outputs": [
        {
          "output_type": "stream",
          "text": [
            "Train\n",
            "                                   precision    recall  f1-score   support\n",
            "\n",
            "          acordao_de_2_instancia     0.7702    1.0000    0.8702       553\n",
            "agravo_em_recurso_extraordinario     0.7000    0.9788    0.8162      2546\n",
            "     despacho_de_admissibilidade     0.6541    1.0000    0.7909       346\n",
            "                          outros     0.9985    0.9732    0.9857    134134\n",
            "                   peticao_do_RE     0.8223    0.9648    0.8879      9509\n",
            "                        sentenca     0.8427    0.9991    0.9142      2129\n",
            "\n",
            "                        accuracy                         0.9733    149217\n",
            "                       macro avg     0.7980    0.9860    0.8775    149217\n",
            "                    weighted avg     0.9783    0.9733    0.9747    149217\n",
            "\n",
            "Validation\n",
            "                                   precision    recall  f1-score   support\n",
            "\n",
            "          acordao_de_2_instancia     0.7477    0.8328    0.7880       299\n",
            "agravo_em_recurso_extraordinario     0.5757    0.6901    0.6277      2149\n",
            "     despacho_de_admissibilidade     0.5823    0.7923    0.6713       183\n",
            "                          outros     0.9739    0.9631    0.9685     84104\n",
            "                   peticao_do_RE     0.7408    0.7962    0.7675      6364\n",
            "                        sentenca     0.7945    0.7634    0.7787      1636\n",
            "\n",
            "                        accuracy                         0.9415     94735\n",
            "                       macro avg     0.7358    0.8063    0.7669     94735\n",
            "                    weighted avg     0.9447    0.9415    0.9428     94735\n",
            "\n",
            "Test\n",
            "                                   precision    recall  f1-score   support\n",
            "\n",
            "          acordao_de_2_instancia     0.7500    0.9341    0.8320       273\n",
            "agravo_em_recurso_extraordinario     0.5463    0.6502    0.5938      1841\n",
            "     despacho_de_admissibilidade     0.5944    0.7475    0.6622       198\n",
            "                          outros     0.9750    0.9672    0.9711     85408\n",
            "                   peticao_do_RE     0.7466    0.7702    0.7582      6331\n",
            "                        sentenca     0.8107    0.8217    0.8162      1475\n",
            "\n",
            "                        accuracy                         0.9452     95526\n",
            "                       macro avg     0.7372    0.8151    0.7722     95526\n",
            "                    weighted avg     0.9477    0.9452    0.9463     95526\n",
            "\n"
          ],
          "name": "stdout"
        }
      ]
    },
    {
      "cell_type": "code",
      "metadata": {
        "id": "34t6N8VO7N-Z"
      },
      "source": [
        ""
      ],
      "execution_count": null,
      "outputs": []
    }
  ]
}