{
  "nbformat": 4,
  "nbformat_minor": 0,
  "metadata": {
    "kernelspec": {
      "display_name": "Python 3",
      "language": "python",
      "name": "python3"
    },
    "language_info": {
      "codemirror_mode": {
        "name": "ipython",
        "version": 3
      },
      "file_extension": ".py",
      "mimetype": "text/x-python",
      "name": "python",
      "nbconvert_exporter": "python",
      "pygments_lexer": "ipython3",
      "version": "3.7.9"
    },
    "colab": {
      "name": "victor-SVM-tf-idf-2.ipynb",
      "provenance": [],
      "include_colab_link": true
    }
  },
  "cells": [
    {
      "cell_type": "markdown",
      "metadata": {
        "id": "view-in-github",
        "colab_type": "text"
      },
      "source": [
        "<a href=\"https://colab.research.google.com/github/alexlimatds/victor-doc_classification/blob/main/victor_SVM_tf_idf_2.ipynb\" target=\"_parent\"><img src=\"https://colab.research.google.com/assets/colab-badge.svg\" alt=\"Open In Colab\"/></a>"
      ]
    },
    {
      "cell_type": "markdown",
      "metadata": {
        "id": "DOgM-DLADqab"
      },
      "source": [
        "## Document classification with SVM and additional text preprocessing\n",
        "\n",
        "This notebook implements a SVM model to perform classification of documents from the Victor dataset. The dataset used was previously preprocessed with: stop words removal; NER; lemmatization.\n",
        "\n",
        "Original source code: https://github.com/peluz/VICTOR-dataset/blob/master/shallow_clf_docType.ipynb"
      ]
    },
    {
      "cell_type": "code",
      "metadata": {
        "id": "bh_eOqdyCkC8"
      },
      "source": [
        "%load_ext autoreload\n",
        "%autoreload 2\n",
        "\n",
        "import pandas as pd\n",
        "import numpy as np\n",
        "from tqdm import tqdm"
      ],
      "execution_count": null,
      "outputs": []
    },
    {
      "cell_type": "code",
      "metadata": {
        "colab": {
          "base_uri": "https://localhost:8080/"
        },
        "id": "5mn57SQ0DDrU",
        "outputId": "6d5462b4-484d-4a2e-d191-bf60e7181422"
      },
      "source": [
        "from google.colab import drive\n",
        "drive.mount('/content/gdrive', force_remount=True)\n",
        "root_dir = '/content/gdrive/My Drive/'"
      ],
      "execution_count": null,
      "outputs": [
        {
          "output_type": "stream",
          "text": [
            "Mounted at /content/gdrive\n"
          ],
          "name": "stdout"
        }
      ]
    },
    {
      "cell_type": "markdown",
      "metadata": {
        "id": "ZkIw6zQEisoB"
      },
      "source": [
        "### Loading dataset"
      ]
    },
    {
      "cell_type": "code",
      "metadata": {
        "id": "VUvE2ardCkDC"
      },
      "source": [
        "dataset_dir = root_dir + 'Machine Learning/Victor datasets/'\n",
        "\n",
        "train = pd.read_csv(dataset_dir + \"TRAIN-tag_stop_words_False-lemmatize_True.zip\", compression='zip').dropna()\n",
        "valid = pd.read_csv(dataset_dir + \"VALIDATION-tag_stop_words_False-lemmatize_True.zip\", compression='zip').dropna()\n",
        "test = pd.read_csv(dataset_dir + \"TEST-tag_stop_words_False-lemmatize_True.zip\", compression='zip').dropna()"
      ],
      "execution_count": null,
      "outputs": []
    },
    {
      "cell_type": "code",
      "metadata": {
        "colab": {
          "base_uri": "https://localhost:8080/"
        },
        "id": "qYNcPaeSCkDD",
        "outputId": "0ed0154e-43bc-44c8-fec2-85b78caef9a0"
      },
      "source": [
        "def strip_trash(df, column=\"body\"):\n",
        "  df[column] = df[column].str.strip('{}\"')\n",
        "  return df\n",
        "\n",
        "train_clean = strip_trash(train)\n",
        "valid_clean = strip_trash(valid)\n",
        "test_clean = strip_trash(test)\n",
        "len(train)"
      ],
      "execution_count": null,
      "outputs": [
        {
          "output_type": "execute_result",
          "data": {
            "text/plain": [
              "149214"
            ]
          },
          "metadata": {
            "tags": []
          },
          "execution_count": 12
        }
      ]
    },
    {
      "cell_type": "code",
      "metadata": {
        "id": "B_P9hFoVDubR"
      },
      "source": [
        "del(train)\n",
        "del(valid)\n",
        "del(test)"
      ],
      "execution_count": null,
      "outputs": []
    },
    {
      "cell_type": "code",
      "metadata": {
        "colab": {
          "base_uri": "https://localhost:8080/"
        },
        "id": "5hxaunDwDxa0",
        "outputId": "b84e7fbf-b9f7-4da0-988e-2808163e70cb"
      },
      "source": [
        "x_train, y_train = train_clean[\"body\"].values, train_clean[\"document_type\"].values\n",
        "x_valid, y_valid = valid_clean[\"body\"].values, valid_clean[\"document_type\"].values\n",
        "x_test, y_test = test_clean[\"body\"].values, test_clean[\"document_type\"].values\n",
        "\n",
        "len(x_train), len(y_train), len(x_valid), len(y_valid), len(x_test), len(y_test)"
      ],
      "execution_count": null,
      "outputs": [
        {
          "output_type": "execute_result",
          "data": {
            "text/plain": [
              "(149214, 149214, 94733, 94733, 95524, 95524)"
            ]
          },
          "metadata": {
            "tags": []
          },
          "execution_count": 14
        }
      ]
    },
    {
      "cell_type": "code",
      "metadata": {
        "id": "UJu4jr6ID6gj"
      },
      "source": [
        "del(train_clean)\n",
        "del(valid_clean)\n",
        "del(test_clean)"
      ],
      "execution_count": null,
      "outputs": []
    },
    {
      "cell_type": "markdown",
      "metadata": {
        "id": "ZE3x8xvSizYR"
      },
      "source": [
        "### Training model"
      ]
    },
    {
      "cell_type": "code",
      "metadata": {
        "id": "15qi_H03EHik"
      },
      "source": [
        "from sklearn.pipeline import Pipeline\n",
        "from sklearn.feature_extraction.text import TfidfVectorizer\n",
        "from sklearn.svm import LinearSVC\n",
        "\n",
        "pipe_svm = Pipeline((\n",
        "  (\"vectorizer\", \n",
        "   TfidfVectorizer(\n",
        "       ngram_range=(1, 2), \n",
        "       sublinear_tf=True,\n",
        "       min_df=2, \n",
        "       max_df=0.5)),\n",
        "  (\"clf\", \n",
        "   LinearSVC(\n",
        "       verbose=2, \n",
        "       class_weight=\"balanced\"))\n",
        "))"
      ],
      "execution_count": null,
      "outputs": []
    },
    {
      "cell_type": "code",
      "metadata": {
        "colab": {
          "base_uri": "https://localhost:8080/"
        },
        "id": "z5LFoYUDF4P2",
        "outputId": "40853b5f-c038-4b4d-e5f0-097f60e2ba3e"
      },
      "source": [
        "%%time\n",
        "\n",
        "pipe_svm.fit(x_train, y_train)"
      ],
      "execution_count": null,
      "outputs": [
        {
          "output_type": "stream",
          "text": [
            "[LibLinear]CPU times: user 2min 24s, sys: 984 ms, total: 2min 25s\n",
            "Wall time: 2min 26s\n"
          ],
          "name": "stdout"
        },
        {
          "output_type": "stream",
          "text": [
            "/usr/local/lib/python3.6/dist-packages/sklearn/svm/_base.py:947: ConvergenceWarning: Liblinear failed to converge, increase the number of iterations.\n",
            "  \"the number of iterations.\", ConvergenceWarning)\n"
          ],
          "name": "stderr"
        },
        {
          "output_type": "execute_result",
          "data": {
            "text/plain": [
              "Pipeline(memory=None,\n",
              "         steps=[('vectorizer',\n",
              "                 TfidfVectorizer(analyzer='word', binary=False,\n",
              "                                 decode_error='strict',\n",
              "                                 dtype=<class 'numpy.float64'>,\n",
              "                                 encoding='utf-8', input='content',\n",
              "                                 lowercase=True, max_df=0.5, max_features=None,\n",
              "                                 min_df=2, ngram_range=(1, 2), norm='l2',\n",
              "                                 preprocessor=None, smooth_idf=True,\n",
              "                                 stop_words=None, strip_accents=None,\n",
              "                                 sublinear_tf=True,\n",
              "                                 token_pattern='(?u)\\\\b\\\\w\\\\w+\\\\b',\n",
              "                                 tokenizer=None, use_idf=True,\n",
              "                                 vocabulary=None)),\n",
              "                ('clf',\n",
              "                 LinearSVC(C=1.0, class_weight='balanced', dual=True,\n",
              "                           fit_intercept=True, intercept_scaling=1,\n",
              "                           loss='squared_hinge', max_iter=1000,\n",
              "                           multi_class='ovr', penalty='l2', random_state=None,\n",
              "                           tol=0.0001, verbose=2))],\n",
              "         verbose=False)"
            ]
          },
          "metadata": {
            "tags": []
          },
          "execution_count": 17
        }
      ]
    },
    {
      "cell_type": "markdown",
      "metadata": {
        "id": "fg0zEJyXi3sl"
      },
      "source": [
        "### Evaluation"
      ]
    },
    {
      "cell_type": "code",
      "metadata": {
        "id": "92hxr4PhF-Ya"
      },
      "source": [
        "preds_train = pipe_svm.predict(x_train)\n",
        "preds_test = pipe_svm.predict(x_test)\n",
        "preds_valid = pipe_svm.predict(x_valid)"
      ],
      "execution_count": null,
      "outputs": []
    },
    {
      "cell_type": "code",
      "metadata": {
        "colab": {
          "base_uri": "https://localhost:8080/"
        },
        "id": "PXlMBXVR7cgF",
        "outputId": "77a3e83a-b7a0-4750-afd1-a5ed28d725d9"
      },
      "source": [
        "from sklearn.metrics import classification_report\n",
        "\n",
        "test_report = classification_report(\n",
        "    y_test, \n",
        "    preds_test, \n",
        "    digits=4, \n",
        "    target_names=pipe_svm.classes_)\n",
        "\n",
        "valid_report = classification_report(\n",
        "    y_valid, \n",
        "    preds_valid, \n",
        "    digits=4, \n",
        "    target_names=pipe_svm.classes_)\n",
        "\n",
        "train_report = classification_report(\n",
        "    y_train, \n",
        "    preds_train, \n",
        "    digits=4, \n",
        "    target_names=pipe_svm.classes_)\n",
        "\n",
        "print('Train\\n', train_report)\n",
        "print('Validation\\n', valid_report)\n",
        "print('Test\\n', test_report)"
      ],
      "execution_count": null,
      "outputs": [
        {
          "output_type": "stream",
          "text": [
            "Train\n",
            "                                   precision    recall  f1-score   support\n",
            "\n",
            "          acordao_de_2_instancia     0.7855    1.0000    0.8799       553\n",
            "agravo_em_recurso_extraordinario     0.6997    0.9800    0.8164      2546\n",
            "     despacho_de_admissibilidade     0.6758    1.0000    0.8065       346\n",
            "                          outros     0.9986    0.9743    0.9863    134131\n",
            "                   peticao_do_RE     0.8263    0.9622    0.8891      9509\n",
            "                        sentenca     0.8552    0.9986    0.9213      2129\n",
            "\n",
            "                        accuracy                         0.9741    149214\n",
            "                       macro avg     0.8068    0.9859    0.8833    149214\n",
            "                    weighted avg     0.9789    0.9741    0.9755    149214\n",
            "\n",
            "Validation\n",
            "                                   precision    recall  f1-score   support\n",
            "\n",
            "          acordao_de_2_instancia     0.7729    0.8194    0.7955       299\n",
            "agravo_em_recurso_extraordinario     0.5546    0.6831    0.6122      2149\n",
            "     despacho_de_admissibilidade     0.6293    0.7978    0.7036       183\n",
            "                          outros     0.9742    0.9637    0.9689     84102\n",
            "                   peticao_do_RE     0.7392    0.7876    0.7626      6364\n",
            "                        sentenca     0.7987    0.7616    0.7797      1636\n",
            "\n",
            "                        accuracy                         0.9412     94733\n",
            "                       macro avg     0.7448    0.8022    0.7704     94733\n",
            "                    weighted avg     0.9446    0.9412    0.9426     94733\n",
            "\n",
            "Test\n",
            "                                   precision    recall  f1-score   support\n",
            "\n",
            "          acordao_de_2_instancia     0.7754    0.9231    0.8428       273\n",
            "agravo_em_recurso_extraordinario     0.5337    0.6491    0.5858      1841\n",
            "     despacho_de_admissibilidade     0.6578    0.7475    0.6998       198\n",
            "                          outros     0.9750    0.9670    0.9710     85406\n",
            "                   peticao_do_RE     0.7383    0.7621    0.7500      6331\n",
            "                        sentenca     0.8127    0.8264    0.8195      1475\n",
            "\n",
            "                        accuracy                         0.9445     95524\n",
            "                       macro avg     0.7488    0.8125    0.7781     95524\n",
            "                    weighted avg     0.9471    0.9445    0.9456     95524\n",
            "\n"
          ],
          "name": "stdout"
        }
      ]
    },
    {
      "cell_type": "code",
      "metadata": {
        "id": "34t6N8VO7N-Z"
      },
      "source": [
        ""
      ],
      "execution_count": null,
      "outputs": []
    }
  ]
}