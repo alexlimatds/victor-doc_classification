{
  "nbformat": 4,
  "nbformat_minor": 0,
  "metadata": {
    "kernelspec": {
      "display_name": "Python 3",
      "language": "python",
      "name": "python3"
    },
    "language_info": {
      "codemirror_mode": {
        "name": "ipython",
        "version": 3
      },
      "file_extension": ".py",
      "mimetype": "text/x-python",
      "name": "python",
      "nbconvert_exporter": "python",
      "pygments_lexer": "ipython3",
      "version": "3.7.9"
    },
    "colab": {
      "name": "victor-doc_classification-BERTimbau-train.ipynb",
      "provenance": [],
      "collapsed_sections": [],
      "toc_visible": true,
      "include_colab_link": true
    },
    "accelerator": "GPU",
    "widgets": {
      "application/vnd.jupyter.widget-state+json": {
        "d7f1d1e6fe0b4b90a89e73270ae30da1": {
          "model_module": "@jupyter-widgets/controls",
          "model_name": "HBoxModel",
          "state": {
            "_view_name": "HBoxView",
            "_dom_classes": [],
            "_model_name": "HBoxModel",
            "_view_module": "@jupyter-widgets/controls",
            "_model_module_version": "1.5.0",
            "_view_count": null,
            "_view_module_version": "1.5.0",
            "box_style": "",
            "layout": "IPY_MODEL_9b5870cc76584771ae265004324d3ff8",
            "_model_module": "@jupyter-widgets/controls",
            "children": [
              "IPY_MODEL_3cded064349d45c69c9078438e9ae134",
              "IPY_MODEL_323417fc86e64adb833eb019da7984e8"
            ]
          }
        },
        "9b5870cc76584771ae265004324d3ff8": {
          "model_module": "@jupyter-widgets/base",
          "model_name": "LayoutModel",
          "state": {
            "_view_name": "LayoutView",
            "grid_template_rows": null,
            "right": null,
            "justify_content": null,
            "_view_module": "@jupyter-widgets/base",
            "overflow": null,
            "_model_module_version": "1.2.0",
            "_view_count": null,
            "flex_flow": null,
            "width": null,
            "min_width": null,
            "border": null,
            "align_items": null,
            "bottom": null,
            "_model_module": "@jupyter-widgets/base",
            "top": null,
            "grid_column": null,
            "overflow_y": null,
            "overflow_x": null,
            "grid_auto_flow": null,
            "grid_area": null,
            "grid_template_columns": null,
            "flex": null,
            "_model_name": "LayoutModel",
            "justify_items": null,
            "grid_row": null,
            "max_height": null,
            "align_content": null,
            "visibility": null,
            "align_self": null,
            "height": null,
            "min_height": null,
            "padding": null,
            "grid_auto_rows": null,
            "grid_gap": null,
            "max_width": null,
            "order": null,
            "_view_module_version": "1.2.0",
            "grid_template_areas": null,
            "object_position": null,
            "object_fit": null,
            "grid_auto_columns": null,
            "margin": null,
            "display": null,
            "left": null
          }
        },
        "3cded064349d45c69c9078438e9ae134": {
          "model_module": "@jupyter-widgets/controls",
          "model_name": "FloatProgressModel",
          "state": {
            "_view_name": "ProgressView",
            "style": "IPY_MODEL_14817a8d51324128b1eec69aca47a525",
            "_dom_classes": [],
            "description": "Downloading: 100%",
            "_model_name": "FloatProgressModel",
            "bar_style": "success",
            "max": 209528,
            "_view_module": "@jupyter-widgets/controls",
            "_model_module_version": "1.5.0",
            "value": 209528,
            "_view_count": null,
            "_view_module_version": "1.5.0",
            "orientation": "horizontal",
            "min": 0,
            "description_tooltip": null,
            "_model_module": "@jupyter-widgets/controls",
            "layout": "IPY_MODEL_e407ceb317ec4c789053d5536791f1c5"
          }
        },
        "323417fc86e64adb833eb019da7984e8": {
          "model_module": "@jupyter-widgets/controls",
          "model_name": "HTMLModel",
          "state": {
            "_view_name": "HTMLView",
            "style": "IPY_MODEL_e3bc436c0a5447c09af55046a6b962e8",
            "_dom_classes": [],
            "description": "",
            "_model_name": "HTMLModel",
            "placeholder": "​",
            "_view_module": "@jupyter-widgets/controls",
            "_model_module_version": "1.5.0",
            "value": " 210k/210k [00:01&lt;00:00, 114kB/s]",
            "_view_count": null,
            "_view_module_version": "1.5.0",
            "description_tooltip": null,
            "_model_module": "@jupyter-widgets/controls",
            "layout": "IPY_MODEL_95338ae9f0be4a65a1b1268c2544bc49"
          }
        },
        "14817a8d51324128b1eec69aca47a525": {
          "model_module": "@jupyter-widgets/controls",
          "model_name": "ProgressStyleModel",
          "state": {
            "_view_name": "StyleView",
            "_model_name": "ProgressStyleModel",
            "description_width": "initial",
            "_view_module": "@jupyter-widgets/base",
            "_model_module_version": "1.5.0",
            "_view_count": null,
            "_view_module_version": "1.2.0",
            "bar_color": null,
            "_model_module": "@jupyter-widgets/controls"
          }
        },
        "e407ceb317ec4c789053d5536791f1c5": {
          "model_module": "@jupyter-widgets/base",
          "model_name": "LayoutModel",
          "state": {
            "_view_name": "LayoutView",
            "grid_template_rows": null,
            "right": null,
            "justify_content": null,
            "_view_module": "@jupyter-widgets/base",
            "overflow": null,
            "_model_module_version": "1.2.0",
            "_view_count": null,
            "flex_flow": null,
            "width": null,
            "min_width": null,
            "border": null,
            "align_items": null,
            "bottom": null,
            "_model_module": "@jupyter-widgets/base",
            "top": null,
            "grid_column": null,
            "overflow_y": null,
            "overflow_x": null,
            "grid_auto_flow": null,
            "grid_area": null,
            "grid_template_columns": null,
            "flex": null,
            "_model_name": "LayoutModel",
            "justify_items": null,
            "grid_row": null,
            "max_height": null,
            "align_content": null,
            "visibility": null,
            "align_self": null,
            "height": null,
            "min_height": null,
            "padding": null,
            "grid_auto_rows": null,
            "grid_gap": null,
            "max_width": null,
            "order": null,
            "_view_module_version": "1.2.0",
            "grid_template_areas": null,
            "object_position": null,
            "object_fit": null,
            "grid_auto_columns": null,
            "margin": null,
            "display": null,
            "left": null
          }
        },
        "e3bc436c0a5447c09af55046a6b962e8": {
          "model_module": "@jupyter-widgets/controls",
          "model_name": "DescriptionStyleModel",
          "state": {
            "_view_name": "StyleView",
            "_model_name": "DescriptionStyleModel",
            "description_width": "",
            "_view_module": "@jupyter-widgets/base",
            "_model_module_version": "1.5.0",
            "_view_count": null,
            "_view_module_version": "1.2.0",
            "_model_module": "@jupyter-widgets/controls"
          }
        },
        "95338ae9f0be4a65a1b1268c2544bc49": {
          "model_module": "@jupyter-widgets/base",
          "model_name": "LayoutModel",
          "state": {
            "_view_name": "LayoutView",
            "grid_template_rows": null,
            "right": null,
            "justify_content": null,
            "_view_module": "@jupyter-widgets/base",
            "overflow": null,
            "_model_module_version": "1.2.0",
            "_view_count": null,
            "flex_flow": null,
            "width": null,
            "min_width": null,
            "border": null,
            "align_items": null,
            "bottom": null,
            "_model_module": "@jupyter-widgets/base",
            "top": null,
            "grid_column": null,
            "overflow_y": null,
            "overflow_x": null,
            "grid_auto_flow": null,
            "grid_area": null,
            "grid_template_columns": null,
            "flex": null,
            "_model_name": "LayoutModel",
            "justify_items": null,
            "grid_row": null,
            "max_height": null,
            "align_content": null,
            "visibility": null,
            "align_self": null,
            "height": null,
            "min_height": null,
            "padding": null,
            "grid_auto_rows": null,
            "grid_gap": null,
            "max_width": null,
            "order": null,
            "_view_module_version": "1.2.0",
            "grid_template_areas": null,
            "object_position": null,
            "object_fit": null,
            "grid_auto_columns": null,
            "margin": null,
            "display": null,
            "left": null
          }
        },
        "793cd9e0066543088a0efa6f5a753688": {
          "model_module": "@jupyter-widgets/controls",
          "model_name": "HBoxModel",
          "state": {
            "_view_name": "HBoxView",
            "_dom_classes": [],
            "_model_name": "HBoxModel",
            "_view_module": "@jupyter-widgets/controls",
            "_model_module_version": "1.5.0",
            "_view_count": null,
            "_view_module_version": "1.5.0",
            "box_style": "",
            "layout": "IPY_MODEL_632cfc1a93e845898fcc519ff7df2f72",
            "_model_module": "@jupyter-widgets/controls",
            "children": [
              "IPY_MODEL_e315e83e5a434aa9a4106d9ec2fbea4e",
              "IPY_MODEL_6558d72cb0824ea38d8a4d58d548fbc8"
            ]
          }
        },
        "632cfc1a93e845898fcc519ff7df2f72": {
          "model_module": "@jupyter-widgets/base",
          "model_name": "LayoutModel",
          "state": {
            "_view_name": "LayoutView",
            "grid_template_rows": null,
            "right": null,
            "justify_content": null,
            "_view_module": "@jupyter-widgets/base",
            "overflow": null,
            "_model_module_version": "1.2.0",
            "_view_count": null,
            "flex_flow": null,
            "width": null,
            "min_width": null,
            "border": null,
            "align_items": null,
            "bottom": null,
            "_model_module": "@jupyter-widgets/base",
            "top": null,
            "grid_column": null,
            "overflow_y": null,
            "overflow_x": null,
            "grid_auto_flow": null,
            "grid_area": null,
            "grid_template_columns": null,
            "flex": null,
            "_model_name": "LayoutModel",
            "justify_items": null,
            "grid_row": null,
            "max_height": null,
            "align_content": null,
            "visibility": null,
            "align_self": null,
            "height": null,
            "min_height": null,
            "padding": null,
            "grid_auto_rows": null,
            "grid_gap": null,
            "max_width": null,
            "order": null,
            "_view_module_version": "1.2.0",
            "grid_template_areas": null,
            "object_position": null,
            "object_fit": null,
            "grid_auto_columns": null,
            "margin": null,
            "display": null,
            "left": null
          }
        },
        "e315e83e5a434aa9a4106d9ec2fbea4e": {
          "model_module": "@jupyter-widgets/controls",
          "model_name": "FloatProgressModel",
          "state": {
            "_view_name": "ProgressView",
            "style": "IPY_MODEL_7351a5c6e0e1458ca918cb4f87e771b0",
            "_dom_classes": [],
            "description": "Downloading: 100%",
            "_model_name": "FloatProgressModel",
            "bar_style": "success",
            "max": 2,
            "_view_module": "@jupyter-widgets/controls",
            "_model_module_version": "1.5.0",
            "value": 2,
            "_view_count": null,
            "_view_module_version": "1.5.0",
            "orientation": "horizontal",
            "min": 0,
            "description_tooltip": null,
            "_model_module": "@jupyter-widgets/controls",
            "layout": "IPY_MODEL_5a448c13923e4d1083a5d0ca8ef45f1e"
          }
        },
        "6558d72cb0824ea38d8a4d58d548fbc8": {
          "model_module": "@jupyter-widgets/controls",
          "model_name": "HTMLModel",
          "state": {
            "_view_name": "HTMLView",
            "style": "IPY_MODEL_03ffddc0d1c046dcaddadb9dabfa55cb",
            "_dom_classes": [],
            "description": "",
            "_model_name": "HTMLModel",
            "placeholder": "​",
            "_view_module": "@jupyter-widgets/controls",
            "_model_module_version": "1.5.0",
            "value": " 2.00/2.00 [00:00&lt;00:00, 2.08B/s]",
            "_view_count": null,
            "_view_module_version": "1.5.0",
            "description_tooltip": null,
            "_model_module": "@jupyter-widgets/controls",
            "layout": "IPY_MODEL_32b484caa5d94af0861ab538016351ef"
          }
        },
        "7351a5c6e0e1458ca918cb4f87e771b0": {
          "model_module": "@jupyter-widgets/controls",
          "model_name": "ProgressStyleModel",
          "state": {
            "_view_name": "StyleView",
            "_model_name": "ProgressStyleModel",
            "description_width": "initial",
            "_view_module": "@jupyter-widgets/base",
            "_model_module_version": "1.5.0",
            "_view_count": null,
            "_view_module_version": "1.2.0",
            "bar_color": null,
            "_model_module": "@jupyter-widgets/controls"
          }
        },
        "5a448c13923e4d1083a5d0ca8ef45f1e": {
          "model_module": "@jupyter-widgets/base",
          "model_name": "LayoutModel",
          "state": {
            "_view_name": "LayoutView",
            "grid_template_rows": null,
            "right": null,
            "justify_content": null,
            "_view_module": "@jupyter-widgets/base",
            "overflow": null,
            "_model_module_version": "1.2.0",
            "_view_count": null,
            "flex_flow": null,
            "width": null,
            "min_width": null,
            "border": null,
            "align_items": null,
            "bottom": null,
            "_model_module": "@jupyter-widgets/base",
            "top": null,
            "grid_column": null,
            "overflow_y": null,
            "overflow_x": null,
            "grid_auto_flow": null,
            "grid_area": null,
            "grid_template_columns": null,
            "flex": null,
            "_model_name": "LayoutModel",
            "justify_items": null,
            "grid_row": null,
            "max_height": null,
            "align_content": null,
            "visibility": null,
            "align_self": null,
            "height": null,
            "min_height": null,
            "padding": null,
            "grid_auto_rows": null,
            "grid_gap": null,
            "max_width": null,
            "order": null,
            "_view_module_version": "1.2.0",
            "grid_template_areas": null,
            "object_position": null,
            "object_fit": null,
            "grid_auto_columns": null,
            "margin": null,
            "display": null,
            "left": null
          }
        },
        "03ffddc0d1c046dcaddadb9dabfa55cb": {
          "model_module": "@jupyter-widgets/controls",
          "model_name": "DescriptionStyleModel",
          "state": {
            "_view_name": "StyleView",
            "_model_name": "DescriptionStyleModel",
            "description_width": "",
            "_view_module": "@jupyter-widgets/base",
            "_model_module_version": "1.5.0",
            "_view_count": null,
            "_view_module_version": "1.2.0",
            "_model_module": "@jupyter-widgets/controls"
          }
        },
        "32b484caa5d94af0861ab538016351ef": {
          "model_module": "@jupyter-widgets/base",
          "model_name": "LayoutModel",
          "state": {
            "_view_name": "LayoutView",
            "grid_template_rows": null,
            "right": null,
            "justify_content": null,
            "_view_module": "@jupyter-widgets/base",
            "overflow": null,
            "_model_module_version": "1.2.0",
            "_view_count": null,
            "flex_flow": null,
            "width": null,
            "min_width": null,
            "border": null,
            "align_items": null,
            "bottom": null,
            "_model_module": "@jupyter-widgets/base",
            "top": null,
            "grid_column": null,
            "overflow_y": null,
            "overflow_x": null,
            "grid_auto_flow": null,
            "grid_area": null,
            "grid_template_columns": null,
            "flex": null,
            "_model_name": "LayoutModel",
            "justify_items": null,
            "grid_row": null,
            "max_height": null,
            "align_content": null,
            "visibility": null,
            "align_self": null,
            "height": null,
            "min_height": null,
            "padding": null,
            "grid_auto_rows": null,
            "grid_gap": null,
            "max_width": null,
            "order": null,
            "_view_module_version": "1.2.0",
            "grid_template_areas": null,
            "object_position": null,
            "object_fit": null,
            "grid_auto_columns": null,
            "margin": null,
            "display": null,
            "left": null
          }
        },
        "59cb69556bd94b4d945c01da22ef182a": {
          "model_module": "@jupyter-widgets/controls",
          "model_name": "HBoxModel",
          "state": {
            "_view_name": "HBoxView",
            "_dom_classes": [],
            "_model_name": "HBoxModel",
            "_view_module": "@jupyter-widgets/controls",
            "_model_module_version": "1.5.0",
            "_view_count": null,
            "_view_module_version": "1.5.0",
            "box_style": "",
            "layout": "IPY_MODEL_8edead667a564a3fa6bd70a4868f31c0",
            "_model_module": "@jupyter-widgets/controls",
            "children": [
              "IPY_MODEL_3577fe7d7a094a91ab32852129646c86",
              "IPY_MODEL_c43d41ae77d64449a313e0854cc80f86"
            ]
          }
        },
        "8edead667a564a3fa6bd70a4868f31c0": {
          "model_module": "@jupyter-widgets/base",
          "model_name": "LayoutModel",
          "state": {
            "_view_name": "LayoutView",
            "grid_template_rows": null,
            "right": null,
            "justify_content": null,
            "_view_module": "@jupyter-widgets/base",
            "overflow": null,
            "_model_module_version": "1.2.0",
            "_view_count": null,
            "flex_flow": null,
            "width": null,
            "min_width": null,
            "border": null,
            "align_items": null,
            "bottom": null,
            "_model_module": "@jupyter-widgets/base",
            "top": null,
            "grid_column": null,
            "overflow_y": null,
            "overflow_x": null,
            "grid_auto_flow": null,
            "grid_area": null,
            "grid_template_columns": null,
            "flex": null,
            "_model_name": "LayoutModel",
            "justify_items": null,
            "grid_row": null,
            "max_height": null,
            "align_content": null,
            "visibility": null,
            "align_self": null,
            "height": null,
            "min_height": null,
            "padding": null,
            "grid_auto_rows": null,
            "grid_gap": null,
            "max_width": null,
            "order": null,
            "_view_module_version": "1.2.0",
            "grid_template_areas": null,
            "object_position": null,
            "object_fit": null,
            "grid_auto_columns": null,
            "margin": null,
            "display": null,
            "left": null
          }
        },
        "3577fe7d7a094a91ab32852129646c86": {
          "model_module": "@jupyter-widgets/controls",
          "model_name": "FloatProgressModel",
          "state": {
            "_view_name": "ProgressView",
            "style": "IPY_MODEL_183586cb334a48c1993187c47cc605c3",
            "_dom_classes": [],
            "description": "Downloading: 100%",
            "_model_name": "FloatProgressModel",
            "bar_style": "success",
            "max": 112,
            "_view_module": "@jupyter-widgets/controls",
            "_model_module_version": "1.5.0",
            "value": 112,
            "_view_count": null,
            "_view_module_version": "1.5.0",
            "orientation": "horizontal",
            "min": 0,
            "description_tooltip": null,
            "_model_module": "@jupyter-widgets/controls",
            "layout": "IPY_MODEL_d490202b854f4cce843399d3b4d30c3f"
          }
        },
        "c43d41ae77d64449a313e0854cc80f86": {
          "model_module": "@jupyter-widgets/controls",
          "model_name": "HTMLModel",
          "state": {
            "_view_name": "HTMLView",
            "style": "IPY_MODEL_660d4f7aa64d47b985cf10dc9919a97b",
            "_dom_classes": [],
            "description": "",
            "_model_name": "HTMLModel",
            "placeholder": "​",
            "_view_module": "@jupyter-widgets/controls",
            "_model_module_version": "1.5.0",
            "value": " 112/112 [00:00&lt;00:00, 218B/s]",
            "_view_count": null,
            "_view_module_version": "1.5.0",
            "description_tooltip": null,
            "_model_module": "@jupyter-widgets/controls",
            "layout": "IPY_MODEL_e31436e2c4d94f5db7c9d7a44c2be384"
          }
        },
        "183586cb334a48c1993187c47cc605c3": {
          "model_module": "@jupyter-widgets/controls",
          "model_name": "ProgressStyleModel",
          "state": {
            "_view_name": "StyleView",
            "_model_name": "ProgressStyleModel",
            "description_width": "initial",
            "_view_module": "@jupyter-widgets/base",
            "_model_module_version": "1.5.0",
            "_view_count": null,
            "_view_module_version": "1.2.0",
            "bar_color": null,
            "_model_module": "@jupyter-widgets/controls"
          }
        },
        "d490202b854f4cce843399d3b4d30c3f": {
          "model_module": "@jupyter-widgets/base",
          "model_name": "LayoutModel",
          "state": {
            "_view_name": "LayoutView",
            "grid_template_rows": null,
            "right": null,
            "justify_content": null,
            "_view_module": "@jupyter-widgets/base",
            "overflow": null,
            "_model_module_version": "1.2.0",
            "_view_count": null,
            "flex_flow": null,
            "width": null,
            "min_width": null,
            "border": null,
            "align_items": null,
            "bottom": null,
            "_model_module": "@jupyter-widgets/base",
            "top": null,
            "grid_column": null,
            "overflow_y": null,
            "overflow_x": null,
            "grid_auto_flow": null,
            "grid_area": null,
            "grid_template_columns": null,
            "flex": null,
            "_model_name": "LayoutModel",
            "justify_items": null,
            "grid_row": null,
            "max_height": null,
            "align_content": null,
            "visibility": null,
            "align_self": null,
            "height": null,
            "min_height": null,
            "padding": null,
            "grid_auto_rows": null,
            "grid_gap": null,
            "max_width": null,
            "order": null,
            "_view_module_version": "1.2.0",
            "grid_template_areas": null,
            "object_position": null,
            "object_fit": null,
            "grid_auto_columns": null,
            "margin": null,
            "display": null,
            "left": null
          }
        },
        "660d4f7aa64d47b985cf10dc9919a97b": {
          "model_module": "@jupyter-widgets/controls",
          "model_name": "DescriptionStyleModel",
          "state": {
            "_view_name": "StyleView",
            "_model_name": "DescriptionStyleModel",
            "description_width": "",
            "_view_module": "@jupyter-widgets/base",
            "_model_module_version": "1.5.0",
            "_view_count": null,
            "_view_module_version": "1.2.0",
            "_model_module": "@jupyter-widgets/controls"
          }
        },
        "e31436e2c4d94f5db7c9d7a44c2be384": {
          "model_module": "@jupyter-widgets/base",
          "model_name": "LayoutModel",
          "state": {
            "_view_name": "LayoutView",
            "grid_template_rows": null,
            "right": null,
            "justify_content": null,
            "_view_module": "@jupyter-widgets/base",
            "overflow": null,
            "_model_module_version": "1.2.0",
            "_view_count": null,
            "flex_flow": null,
            "width": null,
            "min_width": null,
            "border": null,
            "align_items": null,
            "bottom": null,
            "_model_module": "@jupyter-widgets/base",
            "top": null,
            "grid_column": null,
            "overflow_y": null,
            "overflow_x": null,
            "grid_auto_flow": null,
            "grid_area": null,
            "grid_template_columns": null,
            "flex": null,
            "_model_name": "LayoutModel",
            "justify_items": null,
            "grid_row": null,
            "max_height": null,
            "align_content": null,
            "visibility": null,
            "align_self": null,
            "height": null,
            "min_height": null,
            "padding": null,
            "grid_auto_rows": null,
            "grid_gap": null,
            "max_width": null,
            "order": null,
            "_view_module_version": "1.2.0",
            "grid_template_areas": null,
            "object_position": null,
            "object_fit": null,
            "grid_auto_columns": null,
            "margin": null,
            "display": null,
            "left": null
          }
        },
        "0d943b8bd2a445179f6f6d40387ff3d2": {
          "model_module": "@jupyter-widgets/controls",
          "model_name": "HBoxModel",
          "state": {
            "_view_name": "HBoxView",
            "_dom_classes": [],
            "_model_name": "HBoxModel",
            "_view_module": "@jupyter-widgets/controls",
            "_model_module_version": "1.5.0",
            "_view_count": null,
            "_view_module_version": "1.5.0",
            "box_style": "",
            "layout": "IPY_MODEL_3258838cc5cf46b08610e0728806ccaf",
            "_model_module": "@jupyter-widgets/controls",
            "children": [
              "IPY_MODEL_9616a402614340eb822bf20dc5e383eb",
              "IPY_MODEL_a0e7419519e64de187ed652af99a8ed2"
            ]
          }
        },
        "3258838cc5cf46b08610e0728806ccaf": {
          "model_module": "@jupyter-widgets/base",
          "model_name": "LayoutModel",
          "state": {
            "_view_name": "LayoutView",
            "grid_template_rows": null,
            "right": null,
            "justify_content": null,
            "_view_module": "@jupyter-widgets/base",
            "overflow": null,
            "_model_module_version": "1.2.0",
            "_view_count": null,
            "flex_flow": null,
            "width": null,
            "min_width": null,
            "border": null,
            "align_items": null,
            "bottom": null,
            "_model_module": "@jupyter-widgets/base",
            "top": null,
            "grid_column": null,
            "overflow_y": null,
            "overflow_x": null,
            "grid_auto_flow": null,
            "grid_area": null,
            "grid_template_columns": null,
            "flex": null,
            "_model_name": "LayoutModel",
            "justify_items": null,
            "grid_row": null,
            "max_height": null,
            "align_content": null,
            "visibility": null,
            "align_self": null,
            "height": null,
            "min_height": null,
            "padding": null,
            "grid_auto_rows": null,
            "grid_gap": null,
            "max_width": null,
            "order": null,
            "_view_module_version": "1.2.0",
            "grid_template_areas": null,
            "object_position": null,
            "object_fit": null,
            "grid_auto_columns": null,
            "margin": null,
            "display": null,
            "left": null
          }
        },
        "9616a402614340eb822bf20dc5e383eb": {
          "model_module": "@jupyter-widgets/controls",
          "model_name": "FloatProgressModel",
          "state": {
            "_view_name": "ProgressView",
            "style": "IPY_MODEL_ea586ade0778427397ba9175b26f0267",
            "_dom_classes": [],
            "description": "Downloading: 100%",
            "_model_name": "FloatProgressModel",
            "bar_style": "success",
            "max": 43,
            "_view_module": "@jupyter-widgets/controls",
            "_model_module_version": "1.5.0",
            "value": 43,
            "_view_count": null,
            "_view_module_version": "1.5.0",
            "orientation": "horizontal",
            "min": 0,
            "description_tooltip": null,
            "_model_module": "@jupyter-widgets/controls",
            "layout": "IPY_MODEL_51eabc505bd948f59f1247a5b572e4d0"
          }
        },
        "a0e7419519e64de187ed652af99a8ed2": {
          "model_module": "@jupyter-widgets/controls",
          "model_name": "HTMLModel",
          "state": {
            "_view_name": "HTMLView",
            "style": "IPY_MODEL_a61e2c78663e498a9e3c9eb786eb504b",
            "_dom_classes": [],
            "description": "",
            "_model_name": "HTMLModel",
            "placeholder": "​",
            "_view_module": "@jupyter-widgets/controls",
            "_model_module_version": "1.5.0",
            "value": " 43.0/43.0 [00:00&lt;00:00, 621B/s]",
            "_view_count": null,
            "_view_module_version": "1.5.0",
            "description_tooltip": null,
            "_model_module": "@jupyter-widgets/controls",
            "layout": "IPY_MODEL_48dcbeae5c5c4a35b1927b4114ecbc89"
          }
        },
        "ea586ade0778427397ba9175b26f0267": {
          "model_module": "@jupyter-widgets/controls",
          "model_name": "ProgressStyleModel",
          "state": {
            "_view_name": "StyleView",
            "_model_name": "ProgressStyleModel",
            "description_width": "initial",
            "_view_module": "@jupyter-widgets/base",
            "_model_module_version": "1.5.0",
            "_view_count": null,
            "_view_module_version": "1.2.0",
            "bar_color": null,
            "_model_module": "@jupyter-widgets/controls"
          }
        },
        "51eabc505bd948f59f1247a5b572e4d0": {
          "model_module": "@jupyter-widgets/base",
          "model_name": "LayoutModel",
          "state": {
            "_view_name": "LayoutView",
            "grid_template_rows": null,
            "right": null,
            "justify_content": null,
            "_view_module": "@jupyter-widgets/base",
            "overflow": null,
            "_model_module_version": "1.2.0",
            "_view_count": null,
            "flex_flow": null,
            "width": null,
            "min_width": null,
            "border": null,
            "align_items": null,
            "bottom": null,
            "_model_module": "@jupyter-widgets/base",
            "top": null,
            "grid_column": null,
            "overflow_y": null,
            "overflow_x": null,
            "grid_auto_flow": null,
            "grid_area": null,
            "grid_template_columns": null,
            "flex": null,
            "_model_name": "LayoutModel",
            "justify_items": null,
            "grid_row": null,
            "max_height": null,
            "align_content": null,
            "visibility": null,
            "align_self": null,
            "height": null,
            "min_height": null,
            "padding": null,
            "grid_auto_rows": null,
            "grid_gap": null,
            "max_width": null,
            "order": null,
            "_view_module_version": "1.2.0",
            "grid_template_areas": null,
            "object_position": null,
            "object_fit": null,
            "grid_auto_columns": null,
            "margin": null,
            "display": null,
            "left": null
          }
        },
        "a61e2c78663e498a9e3c9eb786eb504b": {
          "model_module": "@jupyter-widgets/controls",
          "model_name": "DescriptionStyleModel",
          "state": {
            "_view_name": "StyleView",
            "_model_name": "DescriptionStyleModel",
            "description_width": "",
            "_view_module": "@jupyter-widgets/base",
            "_model_module_version": "1.5.0",
            "_view_count": null,
            "_view_module_version": "1.2.0",
            "_model_module": "@jupyter-widgets/controls"
          }
        },
        "48dcbeae5c5c4a35b1927b4114ecbc89": {
          "model_module": "@jupyter-widgets/base",
          "model_name": "LayoutModel",
          "state": {
            "_view_name": "LayoutView",
            "grid_template_rows": null,
            "right": null,
            "justify_content": null,
            "_view_module": "@jupyter-widgets/base",
            "overflow": null,
            "_model_module_version": "1.2.0",
            "_view_count": null,
            "flex_flow": null,
            "width": null,
            "min_width": null,
            "border": null,
            "align_items": null,
            "bottom": null,
            "_model_module": "@jupyter-widgets/base",
            "top": null,
            "grid_column": null,
            "overflow_y": null,
            "overflow_x": null,
            "grid_auto_flow": null,
            "grid_area": null,
            "grid_template_columns": null,
            "flex": null,
            "_model_name": "LayoutModel",
            "justify_items": null,
            "grid_row": null,
            "max_height": null,
            "align_content": null,
            "visibility": null,
            "align_self": null,
            "height": null,
            "min_height": null,
            "padding": null,
            "grid_auto_rows": null,
            "grid_gap": null,
            "max_width": null,
            "order": null,
            "_view_module_version": "1.2.0",
            "grid_template_areas": null,
            "object_position": null,
            "object_fit": null,
            "grid_auto_columns": null,
            "margin": null,
            "display": null,
            "left": null
          }
        },
        "a0a9788d1c614af698804be3b02f84e0": {
          "model_module": "@jupyter-widgets/controls",
          "model_name": "HBoxModel",
          "state": {
            "_view_name": "HBoxView",
            "_dom_classes": [],
            "_model_name": "HBoxModel",
            "_view_module": "@jupyter-widgets/controls",
            "_model_module_version": "1.5.0",
            "_view_count": null,
            "_view_module_version": "1.5.0",
            "box_style": "",
            "layout": "IPY_MODEL_f6115c818b314586957f753719834338",
            "_model_module": "@jupyter-widgets/controls",
            "children": [
              "IPY_MODEL_b50b35b8b2f54cba9e1113ddade543c9",
              "IPY_MODEL_a85e43640b1f4760b4026df5279028b6"
            ]
          }
        },
        "f6115c818b314586957f753719834338": {
          "model_module": "@jupyter-widgets/base",
          "model_name": "LayoutModel",
          "state": {
            "_view_name": "LayoutView",
            "grid_template_rows": null,
            "right": null,
            "justify_content": null,
            "_view_module": "@jupyter-widgets/base",
            "overflow": null,
            "_model_module_version": "1.2.0",
            "_view_count": null,
            "flex_flow": null,
            "width": null,
            "min_width": null,
            "border": null,
            "align_items": null,
            "bottom": null,
            "_model_module": "@jupyter-widgets/base",
            "top": null,
            "grid_column": null,
            "overflow_y": null,
            "overflow_x": null,
            "grid_auto_flow": null,
            "grid_area": null,
            "grid_template_columns": null,
            "flex": null,
            "_model_name": "LayoutModel",
            "justify_items": null,
            "grid_row": null,
            "max_height": null,
            "align_content": null,
            "visibility": null,
            "align_self": null,
            "height": null,
            "min_height": null,
            "padding": null,
            "grid_auto_rows": null,
            "grid_gap": null,
            "max_width": null,
            "order": null,
            "_view_module_version": "1.2.0",
            "grid_template_areas": null,
            "object_position": null,
            "object_fit": null,
            "grid_auto_columns": null,
            "margin": null,
            "display": null,
            "left": null
          }
        },
        "b50b35b8b2f54cba9e1113ddade543c9": {
          "model_module": "@jupyter-widgets/controls",
          "model_name": "FloatProgressModel",
          "state": {
            "_view_name": "ProgressView",
            "style": "IPY_MODEL_c92b704c508e4e84bc5643b0957cea66",
            "_dom_classes": [],
            "description": "Downloading: 100%",
            "_model_name": "FloatProgressModel",
            "bar_style": "success",
            "max": 647,
            "_view_module": "@jupyter-widgets/controls",
            "_model_module_version": "1.5.0",
            "value": 647,
            "_view_count": null,
            "_view_module_version": "1.5.0",
            "orientation": "horizontal",
            "min": 0,
            "description_tooltip": null,
            "_model_module": "@jupyter-widgets/controls",
            "layout": "IPY_MODEL_9f5bc355b63844928b84240959c8087f"
          }
        },
        "a85e43640b1f4760b4026df5279028b6": {
          "model_module": "@jupyter-widgets/controls",
          "model_name": "HTMLModel",
          "state": {
            "_view_name": "HTMLView",
            "style": "IPY_MODEL_8313129441724a9c81f1178322108c33",
            "_dom_classes": [],
            "description": "",
            "_model_name": "HTMLModel",
            "placeholder": "​",
            "_view_module": "@jupyter-widgets/controls",
            "_model_module_version": "1.5.0",
            "value": " 647/647 [00:00&lt;00:00, 976B/s]",
            "_view_count": null,
            "_view_module_version": "1.5.0",
            "description_tooltip": null,
            "_model_module": "@jupyter-widgets/controls",
            "layout": "IPY_MODEL_5950194bfff443e39fcd1cd206e98928"
          }
        },
        "c92b704c508e4e84bc5643b0957cea66": {
          "model_module": "@jupyter-widgets/controls",
          "model_name": "ProgressStyleModel",
          "state": {
            "_view_name": "StyleView",
            "_model_name": "ProgressStyleModel",
            "description_width": "initial",
            "_view_module": "@jupyter-widgets/base",
            "_model_module_version": "1.5.0",
            "_view_count": null,
            "_view_module_version": "1.2.0",
            "bar_color": null,
            "_model_module": "@jupyter-widgets/controls"
          }
        },
        "9f5bc355b63844928b84240959c8087f": {
          "model_module": "@jupyter-widgets/base",
          "model_name": "LayoutModel",
          "state": {
            "_view_name": "LayoutView",
            "grid_template_rows": null,
            "right": null,
            "justify_content": null,
            "_view_module": "@jupyter-widgets/base",
            "overflow": null,
            "_model_module_version": "1.2.0",
            "_view_count": null,
            "flex_flow": null,
            "width": null,
            "min_width": null,
            "border": null,
            "align_items": null,
            "bottom": null,
            "_model_module": "@jupyter-widgets/base",
            "top": null,
            "grid_column": null,
            "overflow_y": null,
            "overflow_x": null,
            "grid_auto_flow": null,
            "grid_area": null,
            "grid_template_columns": null,
            "flex": null,
            "_model_name": "LayoutModel",
            "justify_items": null,
            "grid_row": null,
            "max_height": null,
            "align_content": null,
            "visibility": null,
            "align_self": null,
            "height": null,
            "min_height": null,
            "padding": null,
            "grid_auto_rows": null,
            "grid_gap": null,
            "max_width": null,
            "order": null,
            "_view_module_version": "1.2.0",
            "grid_template_areas": null,
            "object_position": null,
            "object_fit": null,
            "grid_auto_columns": null,
            "margin": null,
            "display": null,
            "left": null
          }
        },
        "8313129441724a9c81f1178322108c33": {
          "model_module": "@jupyter-widgets/controls",
          "model_name": "DescriptionStyleModel",
          "state": {
            "_view_name": "StyleView",
            "_model_name": "DescriptionStyleModel",
            "description_width": "",
            "_view_module": "@jupyter-widgets/base",
            "_model_module_version": "1.5.0",
            "_view_count": null,
            "_view_module_version": "1.2.0",
            "_model_module": "@jupyter-widgets/controls"
          }
        },
        "5950194bfff443e39fcd1cd206e98928": {
          "model_module": "@jupyter-widgets/base",
          "model_name": "LayoutModel",
          "state": {
            "_view_name": "LayoutView",
            "grid_template_rows": null,
            "right": null,
            "justify_content": null,
            "_view_module": "@jupyter-widgets/base",
            "overflow": null,
            "_model_module_version": "1.2.0",
            "_view_count": null,
            "flex_flow": null,
            "width": null,
            "min_width": null,
            "border": null,
            "align_items": null,
            "bottom": null,
            "_model_module": "@jupyter-widgets/base",
            "top": null,
            "grid_column": null,
            "overflow_y": null,
            "overflow_x": null,
            "grid_auto_flow": null,
            "grid_area": null,
            "grid_template_columns": null,
            "flex": null,
            "_model_name": "LayoutModel",
            "justify_items": null,
            "grid_row": null,
            "max_height": null,
            "align_content": null,
            "visibility": null,
            "align_self": null,
            "height": null,
            "min_height": null,
            "padding": null,
            "grid_auto_rows": null,
            "grid_gap": null,
            "max_width": null,
            "order": null,
            "_view_module_version": "1.2.0",
            "grid_template_areas": null,
            "object_position": null,
            "object_fit": null,
            "grid_auto_columns": null,
            "margin": null,
            "display": null,
            "left": null
          }
        },
        "2ee0c85ab0e845b889ade6a74da872b3": {
          "model_module": "@jupyter-widgets/controls",
          "model_name": "HBoxModel",
          "state": {
            "_view_name": "HBoxView",
            "_dom_classes": [],
            "_model_name": "HBoxModel",
            "_view_module": "@jupyter-widgets/controls",
            "_model_module_version": "1.5.0",
            "_view_count": null,
            "_view_module_version": "1.5.0",
            "box_style": "",
            "layout": "IPY_MODEL_bedd780c073e49bfb7b79b4bc8897875",
            "_model_module": "@jupyter-widgets/controls",
            "children": [
              "IPY_MODEL_31cf3ab03b1242f9b17c74131aece5d7",
              "IPY_MODEL_33104d7409ae4c34b17d3eceeae3433b"
            ]
          }
        },
        "bedd780c073e49bfb7b79b4bc8897875": {
          "model_module": "@jupyter-widgets/base",
          "model_name": "LayoutModel",
          "state": {
            "_view_name": "LayoutView",
            "grid_template_rows": null,
            "right": null,
            "justify_content": null,
            "_view_module": "@jupyter-widgets/base",
            "overflow": null,
            "_model_module_version": "1.2.0",
            "_view_count": null,
            "flex_flow": null,
            "width": null,
            "min_width": null,
            "border": null,
            "align_items": null,
            "bottom": null,
            "_model_module": "@jupyter-widgets/base",
            "top": null,
            "grid_column": null,
            "overflow_y": null,
            "overflow_x": null,
            "grid_auto_flow": null,
            "grid_area": null,
            "grid_template_columns": null,
            "flex": null,
            "_model_name": "LayoutModel",
            "justify_items": null,
            "grid_row": null,
            "max_height": null,
            "align_content": null,
            "visibility": null,
            "align_self": null,
            "height": null,
            "min_height": null,
            "padding": null,
            "grid_auto_rows": null,
            "grid_gap": null,
            "max_width": null,
            "order": null,
            "_view_module_version": "1.2.0",
            "grid_template_areas": null,
            "object_position": null,
            "object_fit": null,
            "grid_auto_columns": null,
            "margin": null,
            "display": null,
            "left": null
          }
        },
        "31cf3ab03b1242f9b17c74131aece5d7": {
          "model_module": "@jupyter-widgets/controls",
          "model_name": "FloatProgressModel",
          "state": {
            "_view_name": "ProgressView",
            "style": "IPY_MODEL_ef85c9d363384e57a17d6ac5f807d46f",
            "_dom_classes": [],
            "description": "Downloading: 100%",
            "_model_name": "FloatProgressModel",
            "bar_style": "success",
            "max": 438235074,
            "_view_module": "@jupyter-widgets/controls",
            "_model_module_version": "1.5.0",
            "value": 438235074,
            "_view_count": null,
            "_view_module_version": "1.5.0",
            "orientation": "horizontal",
            "min": 0,
            "description_tooltip": null,
            "_model_module": "@jupyter-widgets/controls",
            "layout": "IPY_MODEL_9f6f478cdc584b029e7924ab7458553a"
          }
        },
        "33104d7409ae4c34b17d3eceeae3433b": {
          "model_module": "@jupyter-widgets/controls",
          "model_name": "HTMLModel",
          "state": {
            "_view_name": "HTMLView",
            "style": "IPY_MODEL_2995e1df7c664cbcb3d15780befbf6f1",
            "_dom_classes": [],
            "description": "",
            "_model_name": "HTMLModel",
            "placeholder": "​",
            "_view_module": "@jupyter-widgets/controls",
            "_model_module_version": "1.5.0",
            "value": " 438M/438M [01:04&lt;00:00, 6.80MB/s]",
            "_view_count": null,
            "_view_module_version": "1.5.0",
            "description_tooltip": null,
            "_model_module": "@jupyter-widgets/controls",
            "layout": "IPY_MODEL_95a6e8b06b3a4d0e97e64d99970181f6"
          }
        },
        "ef85c9d363384e57a17d6ac5f807d46f": {
          "model_module": "@jupyter-widgets/controls",
          "model_name": "ProgressStyleModel",
          "state": {
            "_view_name": "StyleView",
            "_model_name": "ProgressStyleModel",
            "description_width": "initial",
            "_view_module": "@jupyter-widgets/base",
            "_model_module_version": "1.5.0",
            "_view_count": null,
            "_view_module_version": "1.2.0",
            "bar_color": null,
            "_model_module": "@jupyter-widgets/controls"
          }
        },
        "9f6f478cdc584b029e7924ab7458553a": {
          "model_module": "@jupyter-widgets/base",
          "model_name": "LayoutModel",
          "state": {
            "_view_name": "LayoutView",
            "grid_template_rows": null,
            "right": null,
            "justify_content": null,
            "_view_module": "@jupyter-widgets/base",
            "overflow": null,
            "_model_module_version": "1.2.0",
            "_view_count": null,
            "flex_flow": null,
            "width": null,
            "min_width": null,
            "border": null,
            "align_items": null,
            "bottom": null,
            "_model_module": "@jupyter-widgets/base",
            "top": null,
            "grid_column": null,
            "overflow_y": null,
            "overflow_x": null,
            "grid_auto_flow": null,
            "grid_area": null,
            "grid_template_columns": null,
            "flex": null,
            "_model_name": "LayoutModel",
            "justify_items": null,
            "grid_row": null,
            "max_height": null,
            "align_content": null,
            "visibility": null,
            "align_self": null,
            "height": null,
            "min_height": null,
            "padding": null,
            "grid_auto_rows": null,
            "grid_gap": null,
            "max_width": null,
            "order": null,
            "_view_module_version": "1.2.0",
            "grid_template_areas": null,
            "object_position": null,
            "object_fit": null,
            "grid_auto_columns": null,
            "margin": null,
            "display": null,
            "left": null
          }
        },
        "2995e1df7c664cbcb3d15780befbf6f1": {
          "model_module": "@jupyter-widgets/controls",
          "model_name": "DescriptionStyleModel",
          "state": {
            "_view_name": "StyleView",
            "_model_name": "DescriptionStyleModel",
            "description_width": "",
            "_view_module": "@jupyter-widgets/base",
            "_model_module_version": "1.5.0",
            "_view_count": null,
            "_view_module_version": "1.2.0",
            "_model_module": "@jupyter-widgets/controls"
          }
        },
        "95a6e8b06b3a4d0e97e64d99970181f6": {
          "model_module": "@jupyter-widgets/base",
          "model_name": "LayoutModel",
          "state": {
            "_view_name": "LayoutView",
            "grid_template_rows": null,
            "right": null,
            "justify_content": null,
            "_view_module": "@jupyter-widgets/base",
            "overflow": null,
            "_model_module_version": "1.2.0",
            "_view_count": null,
            "flex_flow": null,
            "width": null,
            "min_width": null,
            "border": null,
            "align_items": null,
            "bottom": null,
            "_model_module": "@jupyter-widgets/base",
            "top": null,
            "grid_column": null,
            "overflow_y": null,
            "overflow_x": null,
            "grid_auto_flow": null,
            "grid_area": null,
            "grid_template_columns": null,
            "flex": null,
            "_model_name": "LayoutModel",
            "justify_items": null,
            "grid_row": null,
            "max_height": null,
            "align_content": null,
            "visibility": null,
            "align_self": null,
            "height": null,
            "min_height": null,
            "padding": null,
            "grid_auto_rows": null,
            "grid_gap": null,
            "max_width": null,
            "order": null,
            "_view_module_version": "1.2.0",
            "grid_template_areas": null,
            "object_position": null,
            "object_fit": null,
            "grid_auto_columns": null,
            "margin": null,
            "display": null,
            "left": null
          }
        },
        "e8a7811afa754cdcbd70f9cab98460e6": {
          "model_module": "@jupyter-widgets/controls",
          "model_name": "HBoxModel",
          "state": {
            "_view_name": "HBoxView",
            "_dom_classes": [],
            "_model_name": "HBoxModel",
            "_view_module": "@jupyter-widgets/controls",
            "_model_module_version": "1.5.0",
            "_view_count": null,
            "_view_module_version": "1.5.0",
            "box_style": "",
            "layout": "IPY_MODEL_d21741e884ff490b809033933b6223a2",
            "_model_module": "@jupyter-widgets/controls",
            "children": [
              "IPY_MODEL_e8c69ab2da20410a9d1e5b1e7bdeb71d",
              "IPY_MODEL_41cf7e327cfd4ad18641629e6405ec17"
            ]
          }
        },
        "d21741e884ff490b809033933b6223a2": {
          "model_module": "@jupyter-widgets/base",
          "model_name": "LayoutModel",
          "state": {
            "_view_name": "LayoutView",
            "grid_template_rows": null,
            "right": null,
            "justify_content": null,
            "_view_module": "@jupyter-widgets/base",
            "overflow": null,
            "_model_module_version": "1.2.0",
            "_view_count": null,
            "flex_flow": null,
            "width": null,
            "min_width": null,
            "border": null,
            "align_items": null,
            "bottom": null,
            "_model_module": "@jupyter-widgets/base",
            "top": null,
            "grid_column": null,
            "overflow_y": null,
            "overflow_x": null,
            "grid_auto_flow": null,
            "grid_area": null,
            "grid_template_columns": null,
            "flex": null,
            "_model_name": "LayoutModel",
            "justify_items": null,
            "grid_row": null,
            "max_height": null,
            "align_content": null,
            "visibility": null,
            "align_self": null,
            "height": null,
            "min_height": null,
            "padding": null,
            "grid_auto_rows": null,
            "grid_gap": null,
            "max_width": null,
            "order": null,
            "_view_module_version": "1.2.0",
            "grid_template_areas": null,
            "object_position": null,
            "object_fit": null,
            "grid_auto_columns": null,
            "margin": null,
            "display": null,
            "left": null
          }
        },
        "e8c69ab2da20410a9d1e5b1e7bdeb71d": {
          "model_module": "@jupyter-widgets/controls",
          "model_name": "FloatProgressModel",
          "state": {
            "_view_name": "ProgressView",
            "style": "IPY_MODEL_a82c62f4b3284b14a73fcc2fff60c7e7",
            "_dom_classes": [],
            "description": "Downloading: ",
            "_model_name": "FloatProgressModel",
            "bar_style": "success",
            "max": 1800,
            "_view_module": "@jupyter-widgets/controls",
            "_model_module_version": "1.5.0",
            "value": 1800,
            "_view_count": null,
            "_view_module_version": "1.5.0",
            "orientation": "horizontal",
            "min": 0,
            "description_tooltip": null,
            "_model_module": "@jupyter-widgets/controls",
            "layout": "IPY_MODEL_088c98a13a15467f923848dc524ab2ed"
          }
        },
        "41cf7e327cfd4ad18641629e6405ec17": {
          "model_module": "@jupyter-widgets/controls",
          "model_name": "HTMLModel",
          "state": {
            "_view_name": "HTMLView",
            "style": "IPY_MODEL_829526bb63e64ab9828df9dbf0f14221",
            "_dom_classes": [],
            "description": "",
            "_model_name": "HTMLModel",
            "placeholder": "​",
            "_view_module": "@jupyter-widgets/controls",
            "_model_module_version": "1.5.0",
            "value": " 4.12k/? [00:00&lt;00:00, 17.0kB/s]",
            "_view_count": null,
            "_view_module_version": "1.5.0",
            "description_tooltip": null,
            "_model_module": "@jupyter-widgets/controls",
            "layout": "IPY_MODEL_185958fcff634ca088f965297c1858da"
          }
        },
        "a82c62f4b3284b14a73fcc2fff60c7e7": {
          "model_module": "@jupyter-widgets/controls",
          "model_name": "ProgressStyleModel",
          "state": {
            "_view_name": "StyleView",
            "_model_name": "ProgressStyleModel",
            "description_width": "initial",
            "_view_module": "@jupyter-widgets/base",
            "_model_module_version": "1.5.0",
            "_view_count": null,
            "_view_module_version": "1.2.0",
            "bar_color": null,
            "_model_module": "@jupyter-widgets/controls"
          }
        },
        "088c98a13a15467f923848dc524ab2ed": {
          "model_module": "@jupyter-widgets/base",
          "model_name": "LayoutModel",
          "state": {
            "_view_name": "LayoutView",
            "grid_template_rows": null,
            "right": null,
            "justify_content": null,
            "_view_module": "@jupyter-widgets/base",
            "overflow": null,
            "_model_module_version": "1.2.0",
            "_view_count": null,
            "flex_flow": null,
            "width": null,
            "min_width": null,
            "border": null,
            "align_items": null,
            "bottom": null,
            "_model_module": "@jupyter-widgets/base",
            "top": null,
            "grid_column": null,
            "overflow_y": null,
            "overflow_x": null,
            "grid_auto_flow": null,
            "grid_area": null,
            "grid_template_columns": null,
            "flex": null,
            "_model_name": "LayoutModel",
            "justify_items": null,
            "grid_row": null,
            "max_height": null,
            "align_content": null,
            "visibility": null,
            "align_self": null,
            "height": null,
            "min_height": null,
            "padding": null,
            "grid_auto_rows": null,
            "grid_gap": null,
            "max_width": null,
            "order": null,
            "_view_module_version": "1.2.0",
            "grid_template_areas": null,
            "object_position": null,
            "object_fit": null,
            "grid_auto_columns": null,
            "margin": null,
            "display": null,
            "left": null
          }
        },
        "829526bb63e64ab9828df9dbf0f14221": {
          "model_module": "@jupyter-widgets/controls",
          "model_name": "DescriptionStyleModel",
          "state": {
            "_view_name": "StyleView",
            "_model_name": "DescriptionStyleModel",
            "description_width": "",
            "_view_module": "@jupyter-widgets/base",
            "_model_module_version": "1.5.0",
            "_view_count": null,
            "_view_module_version": "1.2.0",
            "_model_module": "@jupyter-widgets/controls"
          }
        },
        "185958fcff634ca088f965297c1858da": {
          "model_module": "@jupyter-widgets/base",
          "model_name": "LayoutModel",
          "state": {
            "_view_name": "LayoutView",
            "grid_template_rows": null,
            "right": null,
            "justify_content": null,
            "_view_module": "@jupyter-widgets/base",
            "overflow": null,
            "_model_module_version": "1.2.0",
            "_view_count": null,
            "flex_flow": null,
            "width": null,
            "min_width": null,
            "border": null,
            "align_items": null,
            "bottom": null,
            "_model_module": "@jupyter-widgets/base",
            "top": null,
            "grid_column": null,
            "overflow_y": null,
            "overflow_x": null,
            "grid_auto_flow": null,
            "grid_area": null,
            "grid_template_columns": null,
            "flex": null,
            "_model_name": "LayoutModel",
            "justify_items": null,
            "grid_row": null,
            "max_height": null,
            "align_content": null,
            "visibility": null,
            "align_self": null,
            "height": null,
            "min_height": null,
            "padding": null,
            "grid_auto_rows": null,
            "grid_gap": null,
            "max_width": null,
            "order": null,
            "_view_module_version": "1.2.0",
            "grid_template_areas": null,
            "object_position": null,
            "object_fit": null,
            "grid_auto_columns": null,
            "margin": null,
            "display": null,
            "left": null
          }
        }
      }
    }
  },
  "cells": [
    {
      "cell_type": "markdown",
      "metadata": {
        "id": "view-in-github",
        "colab_type": "text"
      },
      "source": [
        "<a href=\"https://colab.research.google.com/github/alexlimatds/victor-doc_classification/blob/main/victor_doc_classification_BERTimbau_train.ipynb\" target=\"_parent\"><img src=\"https://colab.research.google.com/assets/colab-badge.svg\" alt=\"Open In Colab\"/></a>"
      ]
    },
    {
      "cell_type": "markdown",
      "metadata": {
        "id": "sZcSW6EN-VWN"
      },
      "source": [
        "## Document classification of Victor project using BERTimbau as machine learning model\n",
        "\n",
        "Because of memory limitations, this notebook runs just the training. For the test results, check the specific notebook.\n",
        "\n",
        "Application based on the Hugging Face library."
      ]
    },
    {
      "cell_type": "markdown",
      "metadata": {
        "id": "cwww4AUYqZz0"
      },
      "source": [
        "### Installing dependencies"
      ]
    },
    {
      "cell_type": "code",
      "metadata": {
        "colab": {
          "base_uri": "https://localhost:8080/"
        },
        "id": "dOUL3OMpBhzh",
        "outputId": "4c38ab9c-0c16-43c0-b191-1d4ac5bafcb4"
      },
      "source": [
        "!pip install transformers\n",
        "!pip install datasets"
      ],
      "execution_count": null,
      "outputs": [
        {
          "output_type": "stream",
          "text": [
            "Collecting transformers\n",
            "\u001b[?25l  Downloading https://files.pythonhosted.org/packages/cd/40/866cbfac4601e0f74c7303d533a9c5d4a53858bd402e08e3e294dd271f25/transformers-4.2.1-py3-none-any.whl (1.8MB)\n",
            "\r\u001b[K     |▏                               | 10kB 22.6MB/s eta 0:00:01\r\u001b[K     |▍                               | 20kB 15.8MB/s eta 0:00:01\r\u001b[K     |▋                               | 30kB 13.7MB/s eta 0:00:01\r\u001b[K     |▊                               | 40kB 12.5MB/s eta 0:00:01\r\u001b[K     |█                               | 51kB 8.4MB/s eta 0:00:01\r\u001b[K     |█▏                              | 61kB 7.6MB/s eta 0:00:01\r\u001b[K     |█▎                              | 71kB 8.5MB/s eta 0:00:01\r\u001b[K     |█▌                              | 81kB 9.4MB/s eta 0:00:01\r\u001b[K     |█▊                              | 92kB 10.2MB/s eta 0:00:01\r\u001b[K     |█▉                              | 102kB 8.1MB/s eta 0:00:01\r\u001b[K     |██                              | 112kB 8.1MB/s eta 0:00:01\r\u001b[K     |██▎                             | 122kB 8.1MB/s eta 0:00:01\r\u001b[K     |██▍                             | 133kB 8.1MB/s eta 0:00:01\r\u001b[K     |██▋                             | 143kB 8.1MB/s eta 0:00:01\r\u001b[K     |██▉                             | 153kB 8.1MB/s eta 0:00:01\r\u001b[K     |███                             | 163kB 8.1MB/s eta 0:00:01\r\u001b[K     |███▏                            | 174kB 8.1MB/s eta 0:00:01\r\u001b[K     |███▍                            | 184kB 8.1MB/s eta 0:00:01\r\u001b[K     |███▌                            | 194kB 8.1MB/s eta 0:00:01\r\u001b[K     |███▊                            | 204kB 8.1MB/s eta 0:00:01\r\u001b[K     |████                            | 215kB 8.1MB/s eta 0:00:01\r\u001b[K     |████                            | 225kB 8.1MB/s eta 0:00:01\r\u001b[K     |████▎                           | 235kB 8.1MB/s eta 0:00:01\r\u001b[K     |████▌                           | 245kB 8.1MB/s eta 0:00:01\r\u001b[K     |████▋                           | 256kB 8.1MB/s eta 0:00:01\r\u001b[K     |████▉                           | 266kB 8.1MB/s eta 0:00:01\r\u001b[K     |█████                           | 276kB 8.1MB/s eta 0:00:01\r\u001b[K     |█████▏                          | 286kB 8.1MB/s eta 0:00:01\r\u001b[K     |█████▍                          | 296kB 8.1MB/s eta 0:00:01\r\u001b[K     |█████▋                          | 307kB 8.1MB/s eta 0:00:01\r\u001b[K     |█████▊                          | 317kB 8.1MB/s eta 0:00:01\r\u001b[K     |██████                          | 327kB 8.1MB/s eta 0:00:01\r\u001b[K     |██████▏                         | 337kB 8.1MB/s eta 0:00:01\r\u001b[K     |██████▎                         | 348kB 8.1MB/s eta 0:00:01\r\u001b[K     |██████▌                         | 358kB 8.1MB/s eta 0:00:01\r\u001b[K     |██████▊                         | 368kB 8.1MB/s eta 0:00:01\r\u001b[K     |██████▉                         | 378kB 8.1MB/s eta 0:00:01\r\u001b[K     |███████                         | 389kB 8.1MB/s eta 0:00:01\r\u001b[K     |███████▎                        | 399kB 8.1MB/s eta 0:00:01\r\u001b[K     |███████▍                        | 409kB 8.1MB/s eta 0:00:01\r\u001b[K     |███████▋                        | 419kB 8.1MB/s eta 0:00:01\r\u001b[K     |███████▉                        | 430kB 8.1MB/s eta 0:00:01\r\u001b[K     |████████                        | 440kB 8.1MB/s eta 0:00:01\r\u001b[K     |████████▏                       | 450kB 8.1MB/s eta 0:00:01\r\u001b[K     |████████▍                       | 460kB 8.1MB/s eta 0:00:01\r\u001b[K     |████████▌                       | 471kB 8.1MB/s eta 0:00:01\r\u001b[K     |████████▊                       | 481kB 8.1MB/s eta 0:00:01\r\u001b[K     |█████████                       | 491kB 8.1MB/s eta 0:00:01\r\u001b[K     |█████████                       | 501kB 8.1MB/s eta 0:00:01\r\u001b[K     |█████████▎                      | 512kB 8.1MB/s eta 0:00:01\r\u001b[K     |█████████▌                      | 522kB 8.1MB/s eta 0:00:01\r\u001b[K     |█████████▋                      | 532kB 8.1MB/s eta 0:00:01\r\u001b[K     |█████████▉                      | 542kB 8.1MB/s eta 0:00:01\r\u001b[K     |██████████                      | 552kB 8.1MB/s eta 0:00:01\r\u001b[K     |██████████▏                     | 563kB 8.1MB/s eta 0:00:01\r\u001b[K     |██████████▍                     | 573kB 8.1MB/s eta 0:00:01\r\u001b[K     |██████████▋                     | 583kB 8.1MB/s eta 0:00:01\r\u001b[K     |██████████▊                     | 593kB 8.1MB/s eta 0:00:01\r\u001b[K     |███████████                     | 604kB 8.1MB/s eta 0:00:01\r\u001b[K     |███████████▏                    | 614kB 8.1MB/s eta 0:00:01\r\u001b[K     |███████████▎                    | 624kB 8.1MB/s eta 0:00:01\r\u001b[K     |███████████▌                    | 634kB 8.1MB/s eta 0:00:01\r\u001b[K     |███████████▊                    | 645kB 8.1MB/s eta 0:00:01\r\u001b[K     |███████████▉                    | 655kB 8.1MB/s eta 0:00:01\r\u001b[K     |████████████                    | 665kB 8.1MB/s eta 0:00:01\r\u001b[K     |████████████▎                   | 675kB 8.1MB/s eta 0:00:01\r\u001b[K     |████████████▍                   | 686kB 8.1MB/s eta 0:00:01\r\u001b[K     |████████████▋                   | 696kB 8.1MB/s eta 0:00:01\r\u001b[K     |████████████▉                   | 706kB 8.1MB/s eta 0:00:01\r\u001b[K     |█████████████                   | 716kB 8.1MB/s eta 0:00:01\r\u001b[K     |█████████████▏                  | 727kB 8.1MB/s eta 0:00:01\r\u001b[K     |█████████████▍                  | 737kB 8.1MB/s eta 0:00:01\r\u001b[K     |█████████████▌                  | 747kB 8.1MB/s eta 0:00:01\r\u001b[K     |█████████████▊                  | 757kB 8.1MB/s eta 0:00:01\r\u001b[K     |██████████████                  | 768kB 8.1MB/s eta 0:00:01\r\u001b[K     |██████████████                  | 778kB 8.1MB/s eta 0:00:01\r\u001b[K     |██████████████▎                 | 788kB 8.1MB/s eta 0:00:01\r\u001b[K     |██████████████▌                 | 798kB 8.1MB/s eta 0:00:01\r\u001b[K     |██████████████▋                 | 808kB 8.1MB/s eta 0:00:01\r\u001b[K     |██████████████▉                 | 819kB 8.1MB/s eta 0:00:01\r\u001b[K     |███████████████                 | 829kB 8.1MB/s eta 0:00:01\r\u001b[K     |███████████████▏                | 839kB 8.1MB/s eta 0:00:01\r\u001b[K     |███████████████▍                | 849kB 8.1MB/s eta 0:00:01\r\u001b[K     |███████████████▋                | 860kB 8.1MB/s eta 0:00:01\r\u001b[K     |███████████████▊                | 870kB 8.1MB/s eta 0:00:01\r\u001b[K     |████████████████                | 880kB 8.1MB/s eta 0:00:01\r\u001b[K     |████████████████▏               | 890kB 8.1MB/s eta 0:00:01\r\u001b[K     |████████████████▎               | 901kB 8.1MB/s eta 0:00:01\r\u001b[K     |████████████████▌               | 911kB 8.1MB/s eta 0:00:01\r\u001b[K     |████████████████▊               | 921kB 8.1MB/s eta 0:00:01\r\u001b[K     |████████████████▉               | 931kB 8.1MB/s eta 0:00:01\r\u001b[K     |█████████████████               | 942kB 8.1MB/s eta 0:00:01\r\u001b[K     |█████████████████▎              | 952kB 8.1MB/s eta 0:00:01\r\u001b[K     |█████████████████▍              | 962kB 8.1MB/s eta 0:00:01\r\u001b[K     |█████████████████▋              | 972kB 8.1MB/s eta 0:00:01\r\u001b[K     |█████████████████▉              | 983kB 8.1MB/s eta 0:00:01\r\u001b[K     |██████████████████              | 993kB 8.1MB/s eta 0:00:01\r\u001b[K     |██████████████████▏             | 1.0MB 8.1MB/s eta 0:00:01\r\u001b[K     |██████████████████▍             | 1.0MB 8.1MB/s eta 0:00:01\r\u001b[K     |██████████████████▌             | 1.0MB 8.1MB/s eta 0:00:01\r\u001b[K     |██████████████████▊             | 1.0MB 8.1MB/s eta 0:00:01\r\u001b[K     |███████████████████             | 1.0MB 8.1MB/s eta 0:00:01\r\u001b[K     |███████████████████             | 1.1MB 8.1MB/s eta 0:00:01\r\u001b[K     |███████████████████▎            | 1.1MB 8.1MB/s eta 0:00:01\r\u001b[K     |███████████████████▌            | 1.1MB 8.1MB/s eta 0:00:01\r\u001b[K     |███████████████████▋            | 1.1MB 8.1MB/s eta 0:00:01\r\u001b[K     |███████████████████▉            | 1.1MB 8.1MB/s eta 0:00:01\r\u001b[K     |████████████████████            | 1.1MB 8.1MB/s eta 0:00:01\r\u001b[K     |████████████████████▏           | 1.1MB 8.1MB/s eta 0:00:01\r\u001b[K     |████████████████████▍           | 1.1MB 8.1MB/s eta 0:00:01\r\u001b[K     |████████████████████▋           | 1.1MB 8.1MB/s eta 0:00:01\r\u001b[K     |████████████████████▊           | 1.1MB 8.1MB/s eta 0:00:01\r\u001b[K     |█████████████████████           | 1.2MB 8.1MB/s eta 0:00:01\r\u001b[K     |█████████████████████▏          | 1.2MB 8.1MB/s eta 0:00:01\r\u001b[K     |█████████████████████▎          | 1.2MB 8.1MB/s eta 0:00:01\r\u001b[K     |█████████████████████▌          | 1.2MB 8.1MB/s eta 0:00:01\r\u001b[K     |█████████████████████▊          | 1.2MB 8.1MB/s eta 0:00:01\r\u001b[K     |█████████████████████▉          | 1.2MB 8.1MB/s eta 0:00:01\r\u001b[K     |██████████████████████          | 1.2MB 8.1MB/s eta 0:00:01\r\u001b[K     |██████████████████████▎         | 1.2MB 8.1MB/s eta 0:00:01\r\u001b[K     |██████████████████████▍         | 1.2MB 8.1MB/s eta 0:00:01\r\u001b[K     |██████████████████████▋         | 1.2MB 8.1MB/s eta 0:00:01\r\u001b[K     |██████████████████████▉         | 1.3MB 8.1MB/s eta 0:00:01\r\u001b[K     |███████████████████████         | 1.3MB 8.1MB/s eta 0:00:01\r\u001b[K     |███████████████████████▏        | 1.3MB 8.1MB/s eta 0:00:01\r\u001b[K     |███████████████████████▍        | 1.3MB 8.1MB/s eta 0:00:01\r\u001b[K     |███████████████████████▋        | 1.3MB 8.1MB/s eta 0:00:01\r\u001b[K     |███████████████████████▊        | 1.3MB 8.1MB/s eta 0:00:01\r\u001b[K     |████████████████████████        | 1.3MB 8.1MB/s eta 0:00:01\r\u001b[K     |████████████████████████▏       | 1.3MB 8.1MB/s eta 0:00:01\r\u001b[K     |████████████████████████▎       | 1.3MB 8.1MB/s eta 0:00:01\r\u001b[K     |████████████████████████▌       | 1.4MB 8.1MB/s eta 0:00:01\r\u001b[K     |████████████████████████▊       | 1.4MB 8.1MB/s eta 0:00:01\r\u001b[K     |████████████████████████▉       | 1.4MB 8.1MB/s eta 0:00:01\r\u001b[K     |█████████████████████████       | 1.4MB 8.1MB/s eta 0:00:01\r\u001b[K     |█████████████████████████▎      | 1.4MB 8.1MB/s eta 0:00:01\r\u001b[K     |█████████████████████████▍      | 1.4MB 8.1MB/s eta 0:00:01\r\u001b[K     |█████████████████████████▋      | 1.4MB 8.1MB/s eta 0:00:01\r\u001b[K     |█████████████████████████▉      | 1.4MB 8.1MB/s eta 0:00:01\r\u001b[K     |██████████████████████████      | 1.4MB 8.1MB/s eta 0:00:01\r\u001b[K     |██████████████████████████▏     | 1.4MB 8.1MB/s eta 0:00:01\r\u001b[K     |██████████████████████████▍     | 1.5MB 8.1MB/s eta 0:00:01\r\u001b[K     |██████████████████████████▌     | 1.5MB 8.1MB/s eta 0:00:01\r\u001b[K     |██████████████████████████▊     | 1.5MB 8.1MB/s eta 0:00:01\r\u001b[K     |███████████████████████████     | 1.5MB 8.1MB/s eta 0:00:01\r\u001b[K     |███████████████████████████     | 1.5MB 8.1MB/s eta 0:00:01\r\u001b[K     |███████████████████████████▎    | 1.5MB 8.1MB/s eta 0:00:01\r\u001b[K     |███████████████████████████▌    | 1.5MB 8.1MB/s eta 0:00:01\r\u001b[K     |███████████████████████████▋    | 1.5MB 8.1MB/s eta 0:00:01\r\u001b[K     |███████████████████████████▉    | 1.5MB 8.1MB/s eta 0:00:01\r\u001b[K     |████████████████████████████    | 1.5MB 8.1MB/s eta 0:00:01\r\u001b[K     |████████████████████████████▏   | 1.6MB 8.1MB/s eta 0:00:01\r\u001b[K     |████████████████████████████▍   | 1.6MB 8.1MB/s eta 0:00:01\r\u001b[K     |████████████████████████████▋   | 1.6MB 8.1MB/s eta 0:00:01\r\u001b[K     |████████████████████████████▊   | 1.6MB 8.1MB/s eta 0:00:01\r\u001b[K     |█████████████████████████████   | 1.6MB 8.1MB/s eta 0:00:01\r\u001b[K     |█████████████████████████████▏  | 1.6MB 8.1MB/s eta 0:00:01\r\u001b[K     |█████████████████████████████▎  | 1.6MB 8.1MB/s eta 0:00:01\r\u001b[K     |█████████████████████████████▌  | 1.6MB 8.1MB/s eta 0:00:01\r\u001b[K     |█████████████████████████████▊  | 1.6MB 8.1MB/s eta 0:00:01\r\u001b[K     |█████████████████████████████▉  | 1.6MB 8.1MB/s eta 0:00:01\r\u001b[K     |██████████████████████████████  | 1.7MB 8.1MB/s eta 0:00:01\r\u001b[K     |██████████████████████████████▎ | 1.7MB 8.1MB/s eta 0:00:01\r\u001b[K     |██████████████████████████████▍ | 1.7MB 8.1MB/s eta 0:00:01\r\u001b[K     |██████████████████████████████▋ | 1.7MB 8.1MB/s eta 0:00:01\r\u001b[K     |██████████████████████████████▉ | 1.7MB 8.1MB/s eta 0:00:01\r\u001b[K     |███████████████████████████████ | 1.7MB 8.1MB/s eta 0:00:01\r\u001b[K     |███████████████████████████████▏| 1.7MB 8.1MB/s eta 0:00:01\r\u001b[K     |███████████████████████████████▍| 1.7MB 8.1MB/s eta 0:00:01\r\u001b[K     |███████████████████████████████▌| 1.7MB 8.1MB/s eta 0:00:01\r\u001b[K     |███████████████████████████████▊| 1.8MB 8.1MB/s eta 0:00:01\r\u001b[K     |████████████████████████████████| 1.8MB 8.1MB/s eta 0:00:01\r\u001b[K     |████████████████████████████████| 1.8MB 8.1MB/s \n",
            "\u001b[?25hRequirement already satisfied: regex!=2019.12.17 in /usr/local/lib/python3.6/dist-packages (from transformers) (2019.12.20)\n",
            "Requirement already satisfied: dataclasses; python_version < \"3.7\" in /usr/local/lib/python3.6/dist-packages (from transformers) (0.8)\n",
            "Requirement already satisfied: requests in /usr/local/lib/python3.6/dist-packages (from transformers) (2.23.0)\n",
            "Requirement already satisfied: filelock in /usr/local/lib/python3.6/dist-packages (from transformers) (3.0.12)\n",
            "Requirement already satisfied: numpy in /usr/local/lib/python3.6/dist-packages (from transformers) (1.19.5)\n",
            "Collecting tokenizers==0.9.4\n",
            "\u001b[?25l  Downloading https://files.pythonhosted.org/packages/0f/1c/e789a8b12e28be5bc1ce2156cf87cb522b379be9cadc7ad8091a4cc107c4/tokenizers-0.9.4-cp36-cp36m-manylinux2010_x86_64.whl (2.9MB)\n",
            "\u001b[K     |████████████████████████████████| 2.9MB 52.2MB/s \n",
            "\u001b[?25hRequirement already satisfied: importlib-metadata; python_version < \"3.8\" in /usr/local/lib/python3.6/dist-packages (from transformers) (3.3.0)\n",
            "Requirement already satisfied: packaging in /usr/local/lib/python3.6/dist-packages (from transformers) (20.8)\n",
            "Requirement already satisfied: tqdm>=4.27 in /usr/local/lib/python3.6/dist-packages (from transformers) (4.41.1)\n",
            "Collecting sacremoses\n",
            "\u001b[?25l  Downloading https://files.pythonhosted.org/packages/7d/34/09d19aff26edcc8eb2a01bed8e98f13a1537005d31e95233fd48216eed10/sacremoses-0.0.43.tar.gz (883kB)\n",
            "\u001b[K     |████████████████████████████████| 890kB 45.5MB/s \n",
            "\u001b[?25hRequirement already satisfied: chardet<4,>=3.0.2 in /usr/local/lib/python3.6/dist-packages (from requests->transformers) (3.0.4)\n",
            "Requirement already satisfied: certifi>=2017.4.17 in /usr/local/lib/python3.6/dist-packages (from requests->transformers) (2020.12.5)\n",
            "Requirement already satisfied: idna<3,>=2.5 in /usr/local/lib/python3.6/dist-packages (from requests->transformers) (2.10)\n",
            "Requirement already satisfied: urllib3!=1.25.0,!=1.25.1,<1.26,>=1.21.1 in /usr/local/lib/python3.6/dist-packages (from requests->transformers) (1.24.3)\n",
            "Requirement already satisfied: zipp>=0.5 in /usr/local/lib/python3.6/dist-packages (from importlib-metadata; python_version < \"3.8\"->transformers) (3.4.0)\n",
            "Requirement already satisfied: typing-extensions>=3.6.4; python_version < \"3.8\" in /usr/local/lib/python3.6/dist-packages (from importlib-metadata; python_version < \"3.8\"->transformers) (3.7.4.3)\n",
            "Requirement already satisfied: pyparsing>=2.0.2 in /usr/local/lib/python3.6/dist-packages (from packaging->transformers) (2.4.7)\n",
            "Requirement already satisfied: six in /usr/local/lib/python3.6/dist-packages (from sacremoses->transformers) (1.15.0)\n",
            "Requirement already satisfied: click in /usr/local/lib/python3.6/dist-packages (from sacremoses->transformers) (7.1.2)\n",
            "Requirement already satisfied: joblib in /usr/local/lib/python3.6/dist-packages (from sacremoses->transformers) (1.0.0)\n",
            "Building wheels for collected packages: sacremoses\n",
            "  Building wheel for sacremoses (setup.py) ... \u001b[?25l\u001b[?25hdone\n",
            "  Created wheel for sacremoses: filename=sacremoses-0.0.43-cp36-none-any.whl size=893261 sha256=77a7d5bb33842c277bd0f09836be14831e0f7de63f24daffac72ea1761970841\n",
            "  Stored in directory: /root/.cache/pip/wheels/29/3c/fd/7ce5c3f0666dab31a50123635e6fb5e19ceb42ce38d4e58f45\n",
            "Successfully built sacremoses\n",
            "Installing collected packages: tokenizers, sacremoses, transformers\n",
            "Successfully installed sacremoses-0.0.43 tokenizers-0.9.4 transformers-4.2.1\n",
            "Collecting datasets\n",
            "\u001b[?25l  Downloading https://files.pythonhosted.org/packages/06/9b/d097f2238fc3c028495cf5f8c65378972b9f1b2cbb27f3c57c7219195aa9/datasets-1.2.1-py3-none-any.whl (159kB)\n",
            "\u001b[K     |████████████████████████████████| 163kB 8.8MB/s \n",
            "\u001b[?25hCollecting xxhash\n",
            "\u001b[?25l  Downloading https://files.pythonhosted.org/packages/f7/73/826b19f3594756cb1c6c23d2fbd8ca6a77a9cd3b650c9dec5acc85004c38/xxhash-2.0.0-cp36-cp36m-manylinux2010_x86_64.whl (242kB)\n",
            "\u001b[K     |████████████████████████████████| 245kB 8.8MB/s \n",
            "\u001b[?25hRequirement already satisfied: requests>=2.19.0 in /usr/local/lib/python3.6/dist-packages (from datasets) (2.23.0)\n",
            "Requirement already satisfied: tqdm<4.50.0,>=4.27 in /usr/local/lib/python3.6/dist-packages (from datasets) (4.41.1)\n",
            "Collecting pyarrow>=0.17.1\n",
            "\u001b[?25l  Downloading https://files.pythonhosted.org/packages/d7/e1/27958a70848f8f7089bff8d6ebe42519daf01f976d28b481e1bfd52c8097/pyarrow-2.0.0-cp36-cp36m-manylinux2014_x86_64.whl (17.7MB)\n",
            "\u001b[K     |████████████████████████████████| 17.7MB 209kB/s \n",
            "\u001b[?25hRequirement already satisfied: importlib-metadata; python_version < \"3.8\" in /usr/local/lib/python3.6/dist-packages (from datasets) (3.3.0)\n",
            "Requirement already satisfied: numpy>=1.17 in /usr/local/lib/python3.6/dist-packages (from datasets) (1.19.5)\n",
            "Requirement already satisfied: multiprocess in /usr/local/lib/python3.6/dist-packages (from datasets) (0.70.11.1)\n",
            "Requirement already satisfied: pandas in /usr/local/lib/python3.6/dist-packages (from datasets) (1.1.5)\n",
            "Requirement already satisfied: dill in /usr/local/lib/python3.6/dist-packages (from datasets) (0.3.3)\n",
            "Requirement already satisfied: dataclasses; python_version < \"3.7\" in /usr/local/lib/python3.6/dist-packages (from datasets) (0.8)\n",
            "Requirement already satisfied: idna<3,>=2.5 in /usr/local/lib/python3.6/dist-packages (from requests>=2.19.0->datasets) (2.10)\n",
            "Requirement already satisfied: urllib3!=1.25.0,!=1.25.1,<1.26,>=1.21.1 in /usr/local/lib/python3.6/dist-packages (from requests>=2.19.0->datasets) (1.24.3)\n",
            "Requirement already satisfied: chardet<4,>=3.0.2 in /usr/local/lib/python3.6/dist-packages (from requests>=2.19.0->datasets) (3.0.4)\n",
            "Requirement already satisfied: certifi>=2017.4.17 in /usr/local/lib/python3.6/dist-packages (from requests>=2.19.0->datasets) (2020.12.5)\n",
            "Requirement already satisfied: typing-extensions>=3.6.4; python_version < \"3.8\" in /usr/local/lib/python3.6/dist-packages (from importlib-metadata; python_version < \"3.8\"->datasets) (3.7.4.3)\n",
            "Requirement already satisfied: zipp>=0.5 in /usr/local/lib/python3.6/dist-packages (from importlib-metadata; python_version < \"3.8\"->datasets) (3.4.0)\n",
            "Requirement already satisfied: pytz>=2017.2 in /usr/local/lib/python3.6/dist-packages (from pandas->datasets) (2018.9)\n",
            "Requirement already satisfied: python-dateutil>=2.7.3 in /usr/local/lib/python3.6/dist-packages (from pandas->datasets) (2.8.1)\n",
            "Requirement already satisfied: six>=1.5 in /usr/local/lib/python3.6/dist-packages (from python-dateutil>=2.7.3->pandas->datasets) (1.15.0)\n",
            "Installing collected packages: xxhash, pyarrow, datasets\n",
            "  Found existing installation: pyarrow 0.14.1\n",
            "    Uninstalling pyarrow-0.14.1:\n",
            "      Successfully uninstalled pyarrow-0.14.1\n",
            "Successfully installed datasets-1.2.1 pyarrow-2.0.0 xxhash-2.0.0\n"
          ],
          "name": "stdout"
        }
      ]
    },
    {
      "cell_type": "markdown",
      "metadata": {
        "id": "UfzEBprbzvfz"
      },
      "source": [
        "### Loading pretrained model and its tokenizer"
      ]
    },
    {
      "cell_type": "code",
      "metadata": {
        "id": "KKRd0C5nzvCN",
        "colab": {
          "base_uri": "https://localhost:8080/",
          "height": 420,
          "referenced_widgets": [
            "d7f1d1e6fe0b4b90a89e73270ae30da1",
            "9b5870cc76584771ae265004324d3ff8",
            "3cded064349d45c69c9078438e9ae134",
            "323417fc86e64adb833eb019da7984e8",
            "14817a8d51324128b1eec69aca47a525",
            "e407ceb317ec4c789053d5536791f1c5",
            "e3bc436c0a5447c09af55046a6b962e8",
            "95338ae9f0be4a65a1b1268c2544bc49",
            "793cd9e0066543088a0efa6f5a753688",
            "632cfc1a93e845898fcc519ff7df2f72",
            "e315e83e5a434aa9a4106d9ec2fbea4e",
            "6558d72cb0824ea38d8a4d58d548fbc8",
            "7351a5c6e0e1458ca918cb4f87e771b0",
            "5a448c13923e4d1083a5d0ca8ef45f1e",
            "03ffddc0d1c046dcaddadb9dabfa55cb",
            "32b484caa5d94af0861ab538016351ef",
            "59cb69556bd94b4d945c01da22ef182a",
            "8edead667a564a3fa6bd70a4868f31c0",
            "3577fe7d7a094a91ab32852129646c86",
            "c43d41ae77d64449a313e0854cc80f86",
            "183586cb334a48c1993187c47cc605c3",
            "d490202b854f4cce843399d3b4d30c3f",
            "660d4f7aa64d47b985cf10dc9919a97b",
            "e31436e2c4d94f5db7c9d7a44c2be384",
            "0d943b8bd2a445179f6f6d40387ff3d2",
            "3258838cc5cf46b08610e0728806ccaf",
            "9616a402614340eb822bf20dc5e383eb",
            "a0e7419519e64de187ed652af99a8ed2",
            "ea586ade0778427397ba9175b26f0267",
            "51eabc505bd948f59f1247a5b572e4d0",
            "a61e2c78663e498a9e3c9eb786eb504b",
            "48dcbeae5c5c4a35b1927b4114ecbc89",
            "a0a9788d1c614af698804be3b02f84e0",
            "f6115c818b314586957f753719834338",
            "b50b35b8b2f54cba9e1113ddade543c9",
            "a85e43640b1f4760b4026df5279028b6",
            "c92b704c508e4e84bc5643b0957cea66",
            "9f5bc355b63844928b84240959c8087f",
            "8313129441724a9c81f1178322108c33",
            "5950194bfff443e39fcd1cd206e98928",
            "2ee0c85ab0e845b889ade6a74da872b3",
            "bedd780c073e49bfb7b79b4bc8897875",
            "31cf3ab03b1242f9b17c74131aece5d7",
            "33104d7409ae4c34b17d3eceeae3433b",
            "ef85c9d363384e57a17d6ac5f807d46f",
            "9f6f478cdc584b029e7924ab7458553a",
            "2995e1df7c664cbcb3d15780befbf6f1",
            "95a6e8b06b3a4d0e97e64d99970181f6"
          ]
        },
        "outputId": "e61dc7fa-783e-4331-dfda-a6fee2e844c7"
      },
      "source": [
        "from transformers import BertTokenizerFast, BertForSequenceClassification\n",
        "\n",
        "# Using the community model (https://huggingface.co/neuralmind/bert-base-portuguese-cased)\n",
        "model_name = 'neuralmind/bert-base-portuguese-cased'\n",
        "tokenizer = BertTokenizerFast.from_pretrained(model_name)\n",
        "model = BertForSequenceClassification.from_pretrained(model_name, num_labels=6)\n"
      ],
      "execution_count": null,
      "outputs": [
        {
          "output_type": "display_data",
          "data": {
            "application/vnd.jupyter.widget-view+json": {
              "model_id": "d7f1d1e6fe0b4b90a89e73270ae30da1",
              "version_minor": 0,
              "version_major": 2
            },
            "text/plain": [
              "HBox(children=(FloatProgress(value=0.0, description='Downloading', max=209528.0, style=ProgressStyle(descripti…"
            ]
          },
          "metadata": {
            "tags": []
          }
        },
        {
          "output_type": "stream",
          "text": [
            "\n"
          ],
          "name": "stdout"
        },
        {
          "output_type": "display_data",
          "data": {
            "application/vnd.jupyter.widget-view+json": {
              "model_id": "793cd9e0066543088a0efa6f5a753688",
              "version_minor": 0,
              "version_major": 2
            },
            "text/plain": [
              "HBox(children=(FloatProgress(value=0.0, description='Downloading', max=2.0, style=ProgressStyle(description_wi…"
            ]
          },
          "metadata": {
            "tags": []
          }
        },
        {
          "output_type": "stream",
          "text": [
            "\n"
          ],
          "name": "stdout"
        },
        {
          "output_type": "display_data",
          "data": {
            "application/vnd.jupyter.widget-view+json": {
              "model_id": "59cb69556bd94b4d945c01da22ef182a",
              "version_minor": 0,
              "version_major": 2
            },
            "text/plain": [
              "HBox(children=(FloatProgress(value=0.0, description='Downloading', max=112.0, style=ProgressStyle(description_…"
            ]
          },
          "metadata": {
            "tags": []
          }
        },
        {
          "output_type": "stream",
          "text": [
            "\n"
          ],
          "name": "stdout"
        },
        {
          "output_type": "display_data",
          "data": {
            "application/vnd.jupyter.widget-view+json": {
              "model_id": "0d943b8bd2a445179f6f6d40387ff3d2",
              "version_minor": 0,
              "version_major": 2
            },
            "text/plain": [
              "HBox(children=(FloatProgress(value=0.0, description='Downloading', max=43.0, style=ProgressStyle(description_w…"
            ]
          },
          "metadata": {
            "tags": []
          }
        },
        {
          "output_type": "stream",
          "text": [
            "\n"
          ],
          "name": "stdout"
        },
        {
          "output_type": "display_data",
          "data": {
            "application/vnd.jupyter.widget-view+json": {
              "model_id": "a0a9788d1c614af698804be3b02f84e0",
              "version_minor": 0,
              "version_major": 2
            },
            "text/plain": [
              "HBox(children=(FloatProgress(value=0.0, description='Downloading', max=647.0, style=ProgressStyle(description_…"
            ]
          },
          "metadata": {
            "tags": []
          }
        },
        {
          "output_type": "stream",
          "text": [
            "\n"
          ],
          "name": "stdout"
        },
        {
          "output_type": "display_data",
          "data": {
            "application/vnd.jupyter.widget-view+json": {
              "model_id": "2ee0c85ab0e845b889ade6a74da872b3",
              "version_minor": 0,
              "version_major": 2
            },
            "text/plain": [
              "HBox(children=(FloatProgress(value=0.0, description='Downloading', max=438235074.0, style=ProgressStyle(descri…"
            ]
          },
          "metadata": {
            "tags": []
          }
        },
        {
          "output_type": "stream",
          "text": [
            "\n"
          ],
          "name": "stdout"
        },
        {
          "output_type": "stream",
          "text": [
            "Some weights of the model checkpoint at neuralmind/bert-base-portuguese-cased were not used when initializing BertForSequenceClassification: ['cls.predictions.bias', 'cls.predictions.transform.dense.weight', 'cls.predictions.transform.dense.bias', 'cls.predictions.transform.LayerNorm.weight', 'cls.predictions.transform.LayerNorm.bias', 'cls.predictions.decoder.weight', 'cls.seq_relationship.weight', 'cls.seq_relationship.bias']\n",
            "- This IS expected if you are initializing BertForSequenceClassification from the checkpoint of a model trained on another task or with another architecture (e.g. initializing a BertForSequenceClassification model from a BertForPreTraining model).\n",
            "- This IS NOT expected if you are initializing BertForSequenceClassification from the checkpoint of a model that you expect to be exactly identical (initializing a BertForSequenceClassification model from a BertForSequenceClassification model).\n",
            "Some weights of BertForSequenceClassification were not initialized from the model checkpoint at neuralmind/bert-base-portuguese-cased and are newly initialized: ['classifier.weight', 'classifier.bias']\n",
            "You should probably TRAIN this model on a down-stream task to be able to use it for predictions and inference.\n"
          ],
          "name": "stderr"
        }
      ]
    },
    {
      "cell_type": "code",
      "metadata": {
        "id": "85JYe9N5z9mQ"
      },
      "source": [
        "id2label = {\n",
        "    0: 'acordao_de_2_instancia', \n",
        "    1: 'agravo_em_recurso_extraordinario', \n",
        "    2: 'despacho_de_admissibilidade', \n",
        "    3: 'outros', \n",
        "    4: 'peticao_do_RE', \n",
        "    5: 'sentenca'}\n",
        "label2id = {v : k for (k, v) in id2label.items()}\n",
        "\n",
        "model.config.id2label = id2label"
      ],
      "execution_count": null,
      "outputs": []
    },
    {
      "cell_type": "markdown",
      "metadata": {
        "id": "3OLwQEraqd-R"
      },
      "source": [
        "### Loading and preprocessing dataset"
      ]
    },
    {
      "cell_type": "code",
      "metadata": {
        "colab": {
          "base_uri": "https://localhost:8080/"
        },
        "id": "U53WC8tpresl",
        "outputId": "a206f51b-137d-405f-cfa1-dbc6891d490e"
      },
      "source": [
        "from google.colab import drive\n",
        "drive.mount('/content/gdrive', force_remount=True)\n",
        "root_dir = \"/content/gdrive/My Drive/\""
      ],
      "execution_count": null,
      "outputs": [
        {
          "output_type": "stream",
          "text": [
            "Mounted at /content/gdrive\n"
          ],
          "name": "stdout"
        }
      ]
    },
    {
      "cell_type": "code",
      "metadata": {
        "id": "_lHrMdQNrr2Q"
      },
      "source": [
        "dataset_dir = root_dir + 'Machine Learning/Victor datasets/'"
      ],
      "execution_count": null,
      "outputs": []
    },
    {
      "cell_type": "code",
      "metadata": {
        "id": "jYfv_S2ECbI3"
      },
      "source": [
        "import torch\n",
        "import torchtext\n",
        "\n",
        "S = 250 # Maximum number of tokens in a sentence\n",
        "\n",
        "dataset_fraction = 0.6 # fraction of train and validation datasets to be used\n",
        "\n",
        "if dataset_fraction == 1.0: # full dataset\n",
        "  train_ds_file = 'train_small.csv'\n",
        "  validation_ds_file = 'validation_small.csv'\n",
        "else:\n",
        "  train_ds_file = f'train_small.csv-croped_{dataset_fraction}.csv'\n",
        "  validation_ds_file = f'validation_small.csv-croped_{dataset_fraction}.csv'"
      ],
      "execution_count": null,
      "outputs": []
    },
    {
      "cell_type": "code",
      "metadata": {
        "id": "xK1_fn8IpXCz"
      },
      "source": [
        "import torch\n",
        "\n",
        "class VictorDataset(torch.utils.data.Dataset):\n",
        "  def __init__(self, encodings, labels):\n",
        "    self.encodings = encodings\n",
        "    self.labels = labels\n",
        "\n",
        "  def __getitem__(self, idx):\n",
        "    ids = torch.tensor(self.encodings[idx]['input_ids'], dtype=torch.long)\n",
        "    mask = torch.tensor(self.encodings[idx]['attention_mask'], dtype=torch.long)\n",
        "    return {\n",
        "        'input_ids': ids, \n",
        "        'attention_mask': mask, \n",
        "        'labels': self.labels[idx]\n",
        "    }\n",
        "\n",
        "  def __len__(self):\n",
        "    return len(self.labels)"
      ],
      "execution_count": null,
      "outputs": []
    },
    {
      "cell_type": "code",
      "metadata": {
        "id": "ghOHuZ0iRNOW"
      },
      "source": [
        "import io\n",
        "\n",
        "def load_and_preprocess(ds_path):\n",
        "  print(f'Loading data from {ds_path}')\n",
        "  label_ids = []\n",
        "  encodings = []\n",
        "  with io.open(dataset_dir + ds_path, encoding=\"utf8\") as f:\n",
        "    reader = torchtext.utils.unicode_csv_reader(f)\n",
        "    next(reader)  # skip header\n",
        "    for line in reader:\n",
        "      label_ids.append(label2id[line[3]])\n",
        "      encodings.append(tokenizer(line[5], truncation=True, padding='max_length', max_length=S))\n",
        "  return VictorDataset(encodings, label_ids)"
      ],
      "execution_count": null,
      "outputs": []
    },
    {
      "cell_type": "code",
      "metadata": {
        "id": "OjFfq9KNsLi8",
        "colab": {
          "base_uri": "https://localhost:8080/"
        },
        "outputId": "6dbd0151-f649-4cd7-e695-de7d06b79c96"
      },
      "source": [
        "%%time\n",
        "\n",
        "ds_train = load_and_preprocess(train_ds_file)\n",
        "ds_validation = load_and_preprocess(validation_ds_file)"
      ],
      "execution_count": null,
      "outputs": [
        {
          "output_type": "stream",
          "text": [
            "Loading data from train_small.csv-croped_0.6.csv\n",
            "Loading data from validation_small.csv-croped_0.6.csv\n",
            "CPU times: user 1min 50s, sys: 4.57 s, total: 1min 55s\n",
            "Wall time: 1min 56s\n"
          ],
          "name": "stdout"
        }
      ]
    },
    {
      "cell_type": "markdown",
      "metadata": {
        "id": "2l7hwX9t-VWj"
      },
      "source": [
        "### Fine tuning\n"
      ]
    },
    {
      "cell_type": "code",
      "metadata": {
        "id": "FCGmfh5F2JUW",
        "colab": {
          "base_uri": "https://localhost:8080/",
          "height": 66,
          "referenced_widgets": [
            "e8a7811afa754cdcbd70f9cab98460e6",
            "d21741e884ff490b809033933b6223a2",
            "e8c69ab2da20410a9d1e5b1e7bdeb71d",
            "41cf7e327cfd4ad18641629e6405ec17",
            "a82c62f4b3284b14a73fcc2fff60c7e7",
            "088c98a13a15467f923848dc524ab2ed",
            "829526bb63e64ab9828df9dbf0f14221",
            "185958fcff634ca088f965297c1858da"
          ]
        },
        "outputId": "9e8096e6-a826-4a22-f793-e7eed10962d0"
      },
      "source": [
        "from datasets import load_metric\n",
        "\n",
        "metric = load_metric('f1')\n",
        "\n",
        "def compute_metrics(eval_pred):\n",
        "  labels = eval_pred.label_ids\n",
        "  predictions = eval_pred.predictions.argmax(-1)\n",
        "  f1_macro = metric.compute(predictions=predictions, references=labels, average='macro')\n",
        "  f1_weighted = metric.compute(predictions=predictions, references=labels, average='weighted')\n",
        "  return {\n",
        "      'f1_macro': f1_macro['f1'], \n",
        "      'f1_weighted': f1_weighted['f1']\n",
        "  }\n"
      ],
      "execution_count": null,
      "outputs": [
        {
          "output_type": "display_data",
          "data": {
            "application/vnd.jupyter.widget-view+json": {
              "model_id": "e8a7811afa754cdcbd70f9cab98460e6",
              "version_minor": 0,
              "version_major": 2
            },
            "text/plain": [
              "HBox(children=(FloatProgress(value=0.0, description='Downloading', max=1800.0, style=ProgressStyle(description…"
            ]
          },
          "metadata": {
            "tags": []
          }
        },
        {
          "output_type": "stream",
          "text": [
            "\n"
          ],
          "name": "stdout"
        }
      ]
    },
    {
      "cell_type": "code",
      "metadata": {
        "id": "9CbRN_dY-VWu"
      },
      "source": [
        "from transformers import Trainer, TrainingArguments\n",
        "\n",
        "model_dir = '{}/BERTimbau{}-{}/'.format(dataset_dir, S, dataset_fraction)\n",
        "\n",
        "training_args = TrainingArguments(\n",
        "    output_dir=model_dir,            # output directory\n",
        "    logging_dir='./logs',            # directory for storing logs\n",
        "    num_train_epochs=5,              # total # of training epochs\n",
        "    per_device_train_batch_size=32,  # batch size per device during training\n",
        "    per_device_eval_batch_size=32,   # batch size for evaluation\n",
        "    warmup_steps=500,                # number of warmup steps for learning rate scheduler\n",
        "    weight_decay=0.01,               # strength of weight decay\n",
        "    load_best_model_at_end=True,\n",
        "    metric_for_best_model='f1_macro', \n",
        "    evaluation_strategy='epoch'\n",
        ")\n",
        "\n",
        "trainer = Trainer(\n",
        "    model=model, \n",
        "    args=training_args, \n",
        "    train_dataset=ds_train, \n",
        "    eval_dataset=ds_validation, \n",
        "    compute_metrics=compute_metrics\n",
        ")"
      ],
      "execution_count": null,
      "outputs": []
    },
    {
      "cell_type": "code",
      "metadata": {
        "colab": {
          "base_uri": "https://localhost:8080/",
          "height": 270
        },
        "id": "BMxyAfD4ICBD",
        "outputId": "defdb2d3-fbf1-41f6-9077-eebca32e97e1"
      },
      "source": [
        "trainer.train()"
      ],
      "execution_count": null,
      "outputs": [
        {
          "output_type": "display_data",
          "data": {
            "text/html": [
              "\n",
              "    <div>\n",
              "        <style>\n",
              "            /* Turns off some styling */\n",
              "            progress {\n",
              "                /* gets rid of default border in Firefox and Opera. */\n",
              "                border: none;\n",
              "                /* Needs to be in here for Safari polyfill so background images work as expected. */\n",
              "                background-size: auto;\n",
              "            }\n",
              "        </style>\n",
              "      \n",
              "      <progress value='14935' max='14935' style='width:300px; height:20px; vertical-align: middle;'></progress>\n",
              "      [14935/14935 7:41:00, Epoch 5/5]\n",
              "    </div>\n",
              "    <table border=\"1\" class=\"dataframe\">\n",
              "  <thead>\n",
              "    <tr style=\"text-align: left;\">\n",
              "      <th>Epoch</th>\n",
              "      <th>Training Loss</th>\n",
              "      <th>Validation Loss</th>\n",
              "      <th>F1 Macro</th>\n",
              "      <th>F1 Weighted</th>\n",
              "      <th>Runtime</th>\n",
              "      <th>Samples Per Second</th>\n",
              "    </tr>\n",
              "  </thead>\n",
              "  <tbody>\n",
              "    <tr>\n",
              "      <td>1</td>\n",
              "      <td>0.256100</td>\n",
              "      <td>0.280151</td>\n",
              "      <td>0.707405</td>\n",
              "      <td>0.904171</td>\n",
              "      <td>1015.712900</td>\n",
              "      <td>60.148000</td>\n",
              "    </tr>\n",
              "    <tr>\n",
              "      <td>2</td>\n",
              "      <td>0.184000</td>\n",
              "      <td>0.283353</td>\n",
              "      <td>0.743895</td>\n",
              "      <td>0.912077</td>\n",
              "      <td>1011.131100</td>\n",
              "      <td>60.420000</td>\n",
              "    </tr>\n",
              "    <tr>\n",
              "      <td>3</td>\n",
              "      <td>0.132400</td>\n",
              "      <td>0.299502</td>\n",
              "      <td>0.762307</td>\n",
              "      <td>0.916808</td>\n",
              "      <td>1014.687900</td>\n",
              "      <td>60.209000</td>\n",
              "    </tr>\n",
              "    <tr>\n",
              "      <td>4</td>\n",
              "      <td>0.091500</td>\n",
              "      <td>0.363205</td>\n",
              "      <td>0.780621</td>\n",
              "      <td>0.922181</td>\n",
              "      <td>1010.651300</td>\n",
              "      <td>60.449000</td>\n",
              "    </tr>\n",
              "    <tr>\n",
              "      <td>5</td>\n",
              "      <td>0.060300</td>\n",
              "      <td>0.406096</td>\n",
              "      <td>0.766608</td>\n",
              "      <td>0.921624</td>\n",
              "      <td>1014.892000</td>\n",
              "      <td>60.197000</td>\n",
              "    </tr>\n",
              "  </tbody>\n",
              "</table><p>"
            ],
            "text/plain": [
              "<IPython.core.display.HTML object>"
            ]
          },
          "metadata": {
            "tags": []
          }
        },
        {
          "output_type": "execute_result",
          "data": {
            "text/plain": [
              "TrainOutput(global_step=14935, training_loss=0.1649681992941091, metrics={'train_runtime': 27661.7788, 'train_samples_per_second': 0.54, 'total_flos': 78070969299375000, 'epoch': 5.0})"
            ]
          },
          "metadata": {
            "tags": []
          },
          "execution_count": 13
        }
      ]
    },
    {
      "cell_type": "code",
      "metadata": {
        "id": "JnrFyNdbLJCO"
      },
      "source": [
        "#model.save_pretrained(model_dir)"
      ],
      "execution_count": null,
      "outputs": []
    },
    {
      "cell_type": "code",
      "metadata": {
        "id": "ACcT_NE4i3-B",
        "colab": {
          "base_uri": "https://localhost:8080/",
          "height": 263
        },
        "outputId": "5bdf37f7-e60b-47e0-bdf5-addaee7d5a73"
      },
      "source": [
        "from sklearn.metrics import classification_report\n",
        "import numpy as np\n",
        "\n",
        "outputs = trainer.predict(test_dataset=ds_validation)\n",
        "\n",
        "report = classification_report(\n",
        "    ds_validation.labels, \n",
        "    np.argmax(outputs[0], axis=1), \n",
        "    digits=4, \n",
        "    target_names=['acordao_de_2_instancia', 'agravo_em_recurso_extraordinario', 'despacho_de_admissibilidade', 'outros', 'peticao_do_RE', 'sentenca'])\n",
        "\n",
        "print(report)\n",
        "\n",
        "rep_file = open(model_dir + \"report_validation.txt\", \"wt\")\n",
        "rep_file.write(report)\n",
        "rep_file.close()"
      ],
      "execution_count": null,
      "outputs": [
        {
          "output_type": "display_data",
          "data": {
            "text/html": [
              "\n",
              "    <div>\n",
              "        <style>\n",
              "            /* Turns off some styling */\n",
              "            progress {\n",
              "                /* gets rid of default border in Firefox and Opera. */\n",
              "                border: none;\n",
              "                /* Needs to be in here for Safari polyfill so background images work as expected. */\n",
              "                background-size: auto;\n",
              "            }\n",
              "        </style>\n",
              "      \n",
              "      <progress value='1910' max='1910' style='width:300px; height:20px; vertical-align: middle;'></progress>\n",
              "      [1910/1910 16:31]\n",
              "    </div>\n",
              "    "
            ],
            "text/plain": [
              "<IPython.core.display.HTML object>"
            ]
          },
          "metadata": {
            "tags": []
          }
        },
        {
          "output_type": "stream",
          "text": [
            "                                  precision    recall  f1-score   support\n",
            "\n",
            "          acordao_de_2_instancia       0.81      0.80      0.81       299\n",
            "agravo_em_recurso_extraordinario       0.62      0.59      0.60      2149\n",
            "     despacho_de_admissibilidade       0.75      0.73      0.74       183\n",
            "                          outros       0.95      0.96      0.96     50462\n",
            "                   peticao_do_RE       0.81      0.79      0.80      6364\n",
            "                        sentenca       0.81      0.75      0.78      1636\n",
            "\n",
            "                        accuracy                           0.92     61093\n",
            "                       macro avg       0.79      0.77      0.78     61093\n",
            "                    weighted avg       0.92      0.92      0.92     61093\n",
            "\n"
          ],
          "name": "stdout"
        }
      ]
    },
    {
      "cell_type": "code",
      "metadata": {
        "id": "f7LZ8yLmsBkl"
      },
      "source": [
        ""
      ],
      "execution_count": null,
      "outputs": []
    }
  ]
}