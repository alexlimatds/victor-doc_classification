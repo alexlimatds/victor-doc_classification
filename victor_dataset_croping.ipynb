{
  "nbformat": 4,
  "nbformat_minor": 0,
  "metadata": {
    "colab": {
      "name": "victor-dataset croping.ipynb",
      "provenance": [],
      "authorship_tag": "ABX9TyPvoppV0PoeU5y2kRN2Lc97",
      "include_colab_link": true
    },
    "kernelspec": {
      "name": "python3",
      "display_name": "Python 3"
    }
  },
  "cells": [
    {
      "cell_type": "markdown",
      "metadata": {
        "id": "view-in-github",
        "colab_type": "text"
      },
      "source": [
        "<a href=\"https://colab.research.google.com/github/alexlimatds/victor-doc_classification/blob/main/victor_dataset_croping.ipynb\" target=\"_parent\"><img src=\"https://colab.research.google.com/assets/colab-badge.svg\" alt=\"Open In Colab\"/></a>"
      ]
    },
    {
      "cell_type": "markdown",
      "metadata": {
        "id": "3w8JWhIspl1c"
      },
      "source": [
        "This notebook contains code that peforms a sampling of the `Outros` class on the train set from the Victor dataset."
      ]
    },
    {
      "cell_type": "code",
      "metadata": {
        "colab": {
          "base_uri": "https://localhost:8080/"
        },
        "id": "xI8TbTAvpH5b",
        "outputId": "e1b5b543-2833-4685-8a57-b4422d9cf8ae"
      },
      "source": [
        "from google.colab import drive\n",
        "drive.mount('/content/gdrive', force_remount=True)\n",
        "root_dir = '/content/gdrive/My Drive/'"
      ],
      "execution_count": null,
      "outputs": [
        {
          "output_type": "stream",
          "text": [
            "Mounted at /content/gdrive\n"
          ],
          "name": "stdout"
        }
      ]
    },
    {
      "cell_type": "code",
      "metadata": {
        "id": "J-Y3KdCYpUrj"
      },
      "source": [
        "dataset_dir = root_dir + 'Machine Learning/Victor datasets/'"
      ],
      "execution_count": null,
      "outputs": []
    },
    {
      "cell_type": "code",
      "metadata": {
        "id": "v_qQaKGx0tci"
      },
      "source": [
        "import pandas as pd\n",
        "\n",
        "def crop(ds_name, outros_percent):\n",
        "  df = pd.read_csv(dataset_dir + ds_name)\n",
        "\n",
        "  # sampling instances of the Outros class\n",
        "  df_outros = df[df['document_type'] == 'outros'].sample(frac=outros_percent, random_state=1)\n",
        "  print('{} dataset: {} instances selected from the Outros class.'.format(ds_name, len(df_outros.index)))\n",
        "  df = df[df['document_type'] != 'outros']\n",
        "  df = pd.concat([df, df_outros], ignore_index=True)\n",
        "  # Saving\n",
        "  df.to_csv(dataset_dir + ds_name + '-croped_' + str(outros_percent) + '.csv', \n",
        "            index=False)"
      ],
      "execution_count": null,
      "outputs": []
    },
    {
      "cell_type": "code",
      "metadata": {
        "colab": {
          "base_uri": "https://localhost:8080/"
        },
        "id": "DDqY0vYDpWkX",
        "outputId": "f8984baf-1939-40e8-e92d-73d286b22584"
      },
      "source": [
        "outros_percent = 0.6 # percentage used to sample the Outros class\n",
        "\n",
        "crop('train_small.csv', outros_percent)\n",
        "crop('validation_small.csv', outros_percent)"
      ],
      "execution_count": null,
      "outputs": [
        {
          "output_type": "stream",
          "text": [
            "train_small.csv dataset: 80480 instances selected from the Outros class.\n",
            "validation_small.csv dataset: 50462 instances selected from the Outros class.\n"
          ],
          "name": "stdout"
        }
      ]
    },
    {
      "cell_type": "code",
      "metadata": {
        "id": "AEwFah0dqezc"
      },
      "source": [
        ""
      ],
      "execution_count": null,
      "outputs": []
    }
  ]
}