{
  "nbformat": 4,
  "nbformat_minor": 0,
  "metadata": {
    "kernelspec": {
      "display_name": "Python 3",
      "language": "python",
      "name": "python3"
    },
    "language_info": {
      "codemirror_mode": {
        "name": "ipython",
        "version": 3
      },
      "file_extension": ".py",
      "mimetype": "text/x-python",
      "name": "python",
      "nbconvert_exporter": "python",
      "pygments_lexer": "ipython3",
      "version": "3.7.9"
    },
    "colab": {
      "name": "victor-SVM-tf-idf.ipynb",
      "provenance": [],
      "include_colab_link": true
    }
  },
  "cells": [
    {
      "cell_type": "markdown",
      "metadata": {
        "id": "view-in-github",
        "colab_type": "text"
      },
      "source": [
        "<a href=\"https://colab.research.google.com/github/alexlimatds/victor-doc_classification/blob/main/victor_SVM_tf_idf.ipynb\" target=\"_parent\"><img src=\"https://colab.research.google.com/assets/colab-badge.svg\" alt=\"Open In Colab\"/></a>"
      ]
    },
    {
      "cell_type": "markdown",
      "metadata": {
        "id": "DOgM-DLADqab"
      },
      "source": [
        "## Document classification with SVM\n",
        "\n",
        "This notebook implements a SVM model to perform classification of documents from the Victor dataset.\n",
        "\n",
        "original source code: https://github.com/peluz/VICTOR-dataset/blob/master/shallow_clf_docType.ipynb"
      ]
    },
    {
      "cell_type": "code",
      "metadata": {
        "id": "bh_eOqdyCkC8"
      },
      "source": [
        "%load_ext autoreload\n",
        "%autoreload 2\n",
        "\n",
        "import pandas as pd\n",
        "import numpy as np\n",
        "from tqdm import tqdm\n"
      ],
      "execution_count": null,
      "outputs": []
    },
    {
      "cell_type": "code",
      "metadata": {
        "colab": {
          "base_uri": "https://localhost:8080/"
        },
        "id": "5mn57SQ0DDrU",
        "outputId": "5f18840b-251f-4a39-e15c-bd76f7b2aec2"
      },
      "source": [
        "from google.colab import drive\n",
        "drive.mount('/content/gdrive', force_remount=True)\n",
        "root_dir = '/content/gdrive/My Drive/'"
      ],
      "execution_count": null,
      "outputs": [
        {
          "output_type": "stream",
          "text": [
            "Mounted at /content/gdrive\n"
          ],
          "name": "stdout"
        }
      ]
    },
    {
      "cell_type": "markdown",
      "metadata": {
        "id": "HDUehVNxgLD6"
      },
      "source": [
        "### Loading and pre-processing the dataset"
      ]
    },
    {
      "cell_type": "code",
      "metadata": {
        "id": "VUvE2ardCkDC"
      },
      "source": [
        "dataset_dir = root_dir + 'Machine Learning/Victor datasets/'\n",
        "\n",
        "train = pd.read_csv(dataset_dir + \"train_small.csv\", usecols=[\"document_type\", \"body\"])\n",
        "valid = pd.read_csv(dataset_dir + \"validation_small.csv\", usecols=[\"document_type\", \"body\"])\n",
        "test = pd.read_csv(dataset_dir + \"test_small.csv\", usecols=[\"document_type\", \"body\"])"
      ],
      "execution_count": null,
      "outputs": []
    },
    {
      "cell_type": "code",
      "metadata": {
        "colab": {
          "base_uri": "https://localhost:8080/"
        },
        "id": "qYNcPaeSCkDD",
        "outputId": "53bc1109-9aa1-4fe8-bfc4-2497108d7023"
      },
      "source": [
        "def strip_trash(df, column=\"body\"):\n",
        "  df[column] = df[column].str.strip('{}\"')\n",
        "  return df\n",
        "\n",
        "train_clean = strip_trash(train)\n",
        "valid_clean = strip_trash(valid)\n",
        "test_clean = strip_trash(test)\n",
        "len(train)"
      ],
      "execution_count": null,
      "outputs": [
        {
          "output_type": "execute_result",
          "data": {
            "text/plain": [
              "149217"
            ]
          },
          "metadata": {
            "tags": []
          },
          "execution_count": 4
        }
      ]
    },
    {
      "cell_type": "code",
      "metadata": {
        "id": "B_P9hFoVDubR"
      },
      "source": [
        "del(train)\n",
        "del(valid)\n",
        "del(test)"
      ],
      "execution_count": null,
      "outputs": []
    },
    {
      "cell_type": "code",
      "metadata": {
        "colab": {
          "base_uri": "https://localhost:8080/"
        },
        "id": "5hxaunDwDxa0",
        "outputId": "17618ba1-be85-4cda-d8c9-7c285c9ede2f"
      },
      "source": [
        "x_train, y_train = train_clean[\"body\"].values, train_clean[\"document_type\"].values\n",
        "x_valid, y_valid = valid_clean[\"body\"].values, valid_clean[\"document_type\"].values\n",
        "x_test, y_test = test_clean[\"body\"].values, test_clean[\"document_type\"].values\n",
        "\n",
        "len(x_train), len(y_train), len(x_valid), len(y_valid), len(x_test), len(y_test)"
      ],
      "execution_count": null,
      "outputs": [
        {
          "output_type": "execute_result",
          "data": {
            "text/plain": [
              "(149217, 149217, 94735, 94735, 95526, 95526)"
            ]
          },
          "metadata": {
            "tags": []
          },
          "execution_count": 6
        }
      ]
    },
    {
      "cell_type": "code",
      "metadata": {
        "id": "UJu4jr6ID6gj"
      },
      "source": [
        "del(train_clean)\n",
        "del(valid_clean)\n",
        "del(test_clean)"
      ],
      "execution_count": null,
      "outputs": []
    },
    {
      "cell_type": "markdown",
      "metadata": {
        "id": "zrDqxxlNgQFK"
      },
      "source": [
        "### Text vectorization"
      ]
    },
    {
      "cell_type": "code",
      "metadata": {
        "id": "15qi_H03EHik"
      },
      "source": [
        "from sklearn.pipeline import Pipeline\n",
        "from sklearn.feature_extraction.text import TfidfVectorizer\n",
        "from sklearn.svm import LinearSVC\n",
        "\n",
        "pipe_svm = Pipeline((\n",
        "  (\"vectorizer\", \n",
        "   TfidfVectorizer(\n",
        "       ngram_range=(1, 2), \n",
        "       sublinear_tf=True,\n",
        "       min_df=2, \n",
        "       max_df=0.5)),\n",
        "  (\"clf\", \n",
        "   LinearSVC(\n",
        "       verbose=2, \n",
        "       class_weight=\"balanced\"))\n",
        "))"
      ],
      "execution_count": null,
      "outputs": []
    },
    {
      "cell_type": "code",
      "metadata": {
        "colab": {
          "base_uri": "https://localhost:8080/"
        },
        "id": "z5LFoYUDF4P2",
        "outputId": "52a44257-9968-42af-98e8-03f91fc41328"
      },
      "source": [
        "%%time\n",
        "\n",
        "pipe_svm.fit(x_train, y_train)"
      ],
      "execution_count": null,
      "outputs": [
        {
          "output_type": "stream",
          "text": [
            "[LibLinear]CPU times: user 3min 12s, sys: 1.21 s, total: 3min 13s\n",
            "Wall time: 3min 14s\n"
          ],
          "name": "stdout"
        },
        {
          "output_type": "stream",
          "text": [
            "/usr/local/lib/python3.6/dist-packages/sklearn/svm/_base.py:947: ConvergenceWarning: Liblinear failed to converge, increase the number of iterations.\n",
            "  \"the number of iterations.\", ConvergenceWarning)\n"
          ],
          "name": "stderr"
        },
        {
          "output_type": "execute_result",
          "data": {
            "text/plain": [
              "Pipeline(memory=None,\n",
              "         steps=[('vectorizer',\n",
              "                 TfidfVectorizer(analyzer='word', binary=False,\n",
              "                                 decode_error='strict',\n",
              "                                 dtype=<class 'numpy.float64'>,\n",
              "                                 encoding='utf-8', input='content',\n",
              "                                 lowercase=True, max_df=0.5, max_features=None,\n",
              "                                 min_df=2, ngram_range=(1, 2), norm='l2',\n",
              "                                 preprocessor=None, smooth_idf=True,\n",
              "                                 stop_words=None, strip_accents=None,\n",
              "                                 sublinear_tf=True,\n",
              "                                 token_pattern='(?u)\\\\b\\\\w\\\\w+\\\\b',\n",
              "                                 tokenizer=None, use_idf=True,\n",
              "                                 vocabulary=None)),\n",
              "                ('clf',\n",
              "                 LinearSVC(C=1.0, class_weight='balanced', dual=True,\n",
              "                           fit_intercept=True, intercept_scaling=1,\n",
              "                           loss='squared_hinge', max_iter=1000,\n",
              "                           multi_class='ovr', penalty='l2', random_state=None,\n",
              "                           tol=0.0001, verbose=2))],\n",
              "         verbose=False)"
            ]
          },
          "metadata": {
            "tags": []
          },
          "execution_count": 9
        }
      ]
    },
    {
      "cell_type": "markdown",
      "metadata": {
        "id": "bG9kSqclgTAt"
      },
      "source": [
        "### Evaluation"
      ]
    },
    {
      "cell_type": "code",
      "metadata": {
        "id": "92hxr4PhF-Ya"
      },
      "source": [
        "preds_train = pipe_svm.predict(x_train)\n",
        "preds_test = pipe_svm.predict(x_test)\n",
        "preds_valid = pipe_svm.predict(x_valid)"
      ],
      "execution_count": null,
      "outputs": []
    },
    {
      "cell_type": "code",
      "metadata": {
        "colab": {
          "base_uri": "https://localhost:8080/"
        },
        "id": "PXlMBXVR7cgF",
        "outputId": "1801c013-188d-4240-d03d-fd2254ccfcd4"
      },
      "source": [
        "from sklearn.metrics import classification_report\n",
        "\n",
        "test_report = classification_report(\n",
        "    y_test, \n",
        "    preds_test, \n",
        "    digits=4, \n",
        "    target_names=pipe_svm.classes_)\n",
        "\n",
        "valid_report = classification_report(\n",
        "    y_valid, \n",
        "    preds_valid, \n",
        "    digits=4, \n",
        "    target_names=pipe_svm.classes_)\n",
        "\n",
        "train_report = classification_report(\n",
        "    y_train, \n",
        "    preds_train, \n",
        "    digits=4, \n",
        "    target_names=pipe_svm.classes_)\n",
        "\n",
        "print('Train\\n', train_report)\n",
        "print('Validation\\n', valid_report)\n",
        "print('Test\\n', test_report)"
      ],
      "execution_count": null,
      "outputs": [
        {
          "output_type": "stream",
          "text": [
            "Train\n",
            "                                   precision    recall  f1-score   support\n",
            "\n",
            "          acordao_de_2_instancia     0.7889    1.0000    0.8820       553\n",
            "agravo_em_recurso_extraordinario     0.6994    0.9788    0.8158      2546\n",
            "     despacho_de_admissibilidade     0.6732    1.0000    0.8047       346\n",
            "                          outros     0.9985    0.9734    0.9858    134134\n",
            "                   peticao_do_RE     0.8225    0.9646    0.8879      9509\n",
            "                        sentenca     0.8434    0.9991    0.9146      2129\n",
            "\n",
            "                        accuracy                         0.9735    149217\n",
            "                       macro avg     0.8043    0.9860    0.8818    149217\n",
            "                    weighted avg     0.9784    0.9735    0.9748    149217\n",
            "\n",
            "Validation\n",
            "                                   precision    recall  f1-score   support\n",
            "\n",
            "          acordao_de_2_instancia     0.7778    0.8194    0.7980       299\n",
            "agravo_em_recurso_extraordinario     0.5750    0.6901    0.6273      2149\n",
            "     despacho_de_admissibilidade     0.6102    0.7869    0.6874       183\n",
            "                          outros     0.9739    0.9634    0.9686     84104\n",
            "                   peticao_do_RE     0.7410    0.7964    0.7677      6364\n",
            "                        sentenca     0.7949    0.7628    0.7785      1636\n",
            "\n",
            "                        accuracy                         0.9417     94735\n",
            "                       macro avg     0.7455    0.8032    0.7713     94735\n",
            "                    weighted avg     0.9448    0.9417    0.9430     94735\n",
            "\n",
            "Test\n",
            "                                   precision    recall  f1-score   support\n",
            "\n",
            "          acordao_de_2_instancia     0.7737    0.9267    0.8433       273\n",
            "agravo_em_recurso_extraordinario     0.5474    0.6524    0.5953      1841\n",
            "     despacho_de_admissibilidade     0.6348    0.7374    0.6822       198\n",
            "                          outros     0.9750    0.9675    0.9712     85408\n",
            "                   peticao_do_RE     0.7462    0.7695    0.7577      6331\n",
            "                        sentenca     0.8095    0.8210    0.8152      1475\n",
            "\n",
            "                        accuracy                         0.9454     95526\n",
            "                       macro avg     0.7478    0.8124    0.7775     95526\n",
            "                    weighted avg     0.9477    0.9454    0.9464     95526\n",
            "\n"
          ],
          "name": "stdout"
        }
      ]
    },
    {
      "cell_type": "code",
      "metadata": {
        "id": "34t6N8VO7N-Z"
      },
      "source": [
        ""
      ],
      "execution_count": null,
      "outputs": []
    }
  ]
}